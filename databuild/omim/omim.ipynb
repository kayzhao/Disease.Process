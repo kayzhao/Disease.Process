{
 "cells": [
  {
   "cell_type": "code",
   "execution_count": 1,
   "metadata": {
    "collapsed": true
   },
   "outputs": [],
   "source": [
    "## incomplete. Not sure if I can use this..."
   ]
  },
  {
   "cell_type": "code",
   "execution_count": 2,
   "metadata": {
    "collapsed": true
   },
   "outputs": [],
   "source": [
    "import pandas as pd"
   ]
  },
  {
   "cell_type": "code",
   "execution_count": 3,
   "metadata": {
    "collapsed": false
   },
   "outputs": [],
   "source": [
    "mimTitles_url = \"http://data.omim.org/downloads/YusepqJtQDuqSPctv6tmVQ/mimTitles.txt\"\n",
    "geneMap_url = \"http://data.omim.org/downloads/YusepqJtQDuqSPctv6tmVQ/genemap.txt\"\n",
    "geneMap2_url = \"http://data.omim.org/downloads/YusepqJtQDuqSPctv6tmVQ/genemap2.txt\"\n",
    "morbidMap_url = \"http://data.omim.org/downloads/YusepqJtQDuqSPctv6tmVQ/morbidmap.txt\"\n",
    "mimTitles_names = \"\"\"Prefix\tMim Number\tPreferred Title; symbol\tAlternative Title(s); symbol(s)\tIncluded Title(s); symbols\"\"\".split(\"\\t\")\n",
    "geneMap_names = \"\"\"Sort\tMonth\tDay\tYear\tCyto Location\tGene Symbols\tConfidence\tGene Name\tMIM Number\tMapping Method\tComments\tPhenotypes\tMouse Gene Symbol\"\"\".split('\\t')\n",
    "geneMap2_names = \"\"\"Chromosome\tGenomic Position Start\tGenomic Position End\tCyto Location\tComputed Cyto Location\tMim Number\tGene Symbols\tGene Name\tApproved Symbol\tEntrez Gene ID\tEnsembl Gene ID\tComments\tPhenotypes\tMouse Gene Symbol/ID\"\"\".split(\"\\t\")\n",
    "morbidMap_names = \"\"\"Phenotype\tGene Symbols\tMIM Number\tCyto Location\"\"\".split(\"\\t\")\n",
    "\n",
    "#### Looks like geneMap and morbidMap are both in geneMap2"
   ]
  },
  {
   "cell_type": "markdown",
   "metadata": {},
   "source": [
    "### mimTitles"
   ]
  },
  {
   "cell_type": "code",
   "execution_count": 4,
   "metadata": {
    "collapsed": false
   },
   "outputs": [
    {
     "data": {
      "text/html": [
       "<div>\n",
       "<table border=\"1\" class=\"dataframe\">\n",
       "  <thead>\n",
       "    <tr style=\"text-align: right;\">\n",
       "      <th></th>\n",
       "      <th>Prefix</th>\n",
       "      <th>Mim Number</th>\n",
       "      <th>Preferred Title; symbol</th>\n",
       "      <th>Alternative Title(s); symbol(s)</th>\n",
       "      <th>Included Title(s); symbols</th>\n",
       "    </tr>\n",
       "  </thead>\n",
       "  <tbody>\n",
       "    <tr>\n",
       "      <th>0</th>\n",
       "      <td>NaN</td>\n",
       "      <td>100050</td>\n",
       "      <td>AARSKOG SYNDROME, AUTOSOMAL DOMINANT</td>\n",
       "      <td>NaN</td>\n",
       "      <td>NaN</td>\n",
       "    </tr>\n",
       "    <tr>\n",
       "      <th>1</th>\n",
       "      <td>Percent</td>\n",
       "      <td>100070</td>\n",
       "      <td>AORTIC ANEURYSM, FAMILIAL ABDOMINAL, 1; AAA1</td>\n",
       "      <td>ANEURYSM, ABDOMINAL AORTIC; AAA;; ABDOMINAL AO...</td>\n",
       "      <td>NaN</td>\n",
       "    </tr>\n",
       "    <tr>\n",
       "      <th>2</th>\n",
       "      <td>Number Sign</td>\n",
       "      <td>100100</td>\n",
       "      <td>PRUNE BELLY SYNDROME; PBS</td>\n",
       "      <td>ABDOMINAL MUSCLES, ABSENCE OF, WITH URINARY TR...</td>\n",
       "      <td>NaN</td>\n",
       "    </tr>\n",
       "    <tr>\n",
       "      <th>3</th>\n",
       "      <td>NaN</td>\n",
       "      <td>100200</td>\n",
       "      <td>ABDUCENS PALSY</td>\n",
       "      <td>NaN</td>\n",
       "      <td>NaN</td>\n",
       "    </tr>\n",
       "    <tr>\n",
       "      <th>4</th>\n",
       "      <td>Number Sign</td>\n",
       "      <td>100300</td>\n",
       "      <td>ADAMS-OLIVER SYNDROME 1; AOS1</td>\n",
       "      <td>AOS;; ABSENCE DEFECT OF LIMBS, SCALP, AND SKUL...</td>\n",
       "      <td>APLASIA CUTIS CONGENITA, CONGENITAL HEART DEFE...</td>\n",
       "    </tr>\n",
       "  </tbody>\n",
       "</table>\n",
       "</div>"
      ],
      "text/plain": [
       "        Prefix Mim Number                       Preferred Title; symbol  \\\n",
       "0          NaN     100050          AARSKOG SYNDROME, AUTOSOMAL DOMINANT   \n",
       "1      Percent     100070  AORTIC ANEURYSM, FAMILIAL ABDOMINAL, 1; AAA1   \n",
       "2  Number Sign     100100                     PRUNE BELLY SYNDROME; PBS   \n",
       "3          NaN     100200                                ABDUCENS PALSY   \n",
       "4  Number Sign     100300                 ADAMS-OLIVER SYNDROME 1; AOS1   \n",
       "\n",
       "                     Alternative Title(s); symbol(s)  \\\n",
       "0                                                NaN   \n",
       "1  ANEURYSM, ABDOMINAL AORTIC; AAA;; ABDOMINAL AO...   \n",
       "2  ABDOMINAL MUSCLES, ABSENCE OF, WITH URINARY TR...   \n",
       "3                                                NaN   \n",
       "4  AOS;; ABSENCE DEFECT OF LIMBS, SCALP, AND SKUL...   \n",
       "\n",
       "                          Included Title(s); symbols  \n",
       "0                                                NaN  \n",
       "1                                                NaN  \n",
       "2                                                NaN  \n",
       "3                                                NaN  \n",
       "4  APLASIA CUTIS CONGENITA, CONGENITAL HEART DEFE...  "
      ]
     },
     "execution_count": 4,
     "metadata": {},
     "output_type": "execute_result"
    }
   ],
   "source": [
    "mimTitles = pd.read_csv(mimTitles_url, sep='\\t', comment='#', names=mimTitles_names)\n",
    "mimTitles['Mim Number'] = mimTitles['Mim Number'].astype(str)\n",
    "mimTitles.head()"
   ]
  },
  {
   "cell_type": "code",
   "execution_count": 5,
   "metadata": {
    "collapsed": false
   },
   "outputs": [],
   "source": [
    "# Fix prefix\n",
    "prefix = {0: \"Other, mainly phenotypes with suspected mendelian basis\",\n",
    "         \"Asterisk\": \"Gene description\",\n",
    "         \"Plus\": \"Gene and phenotype, combined\",\n",
    "         \"Caret\": \"Obsolete\",\n",
    "         \"Percent\": \"Phenotype description or locus, molecular basis unknown\",\n",
    "         \"Number Sign\": \"Phenotype description, molecular basis known\"}\n",
    "mimTitles['type'] = mimTitles.Prefix.fillna(0).apply(prefix.get)\n",
    "del mimTitles['Prefix']"
   ]
  },
  {
   "cell_type": "code",
   "execution_count": 6,
   "metadata": {
    "collapsed": false,
    "scrolled": true
   },
   "outputs": [],
   "source": [
    "# Fix Preferred Title; symbol\n",
    "pts = mimTitles['Preferred Title; symbol'].apply(lambda x: pd.Series(x.split(';',1)))\n",
    "pts.columns = ['title', 'symbol']\n",
    "mimTitles = pd.concat([mimTitles, pts], axis=1)\n",
    "del mimTitles['Preferred Title; symbol']\n",
    "mimTitles.title = mimTitles.title.str.strip()\n",
    "mimTitles.symbol = mimTitles.symbol.str.strip()"
   ]
  },
  {
   "cell_type": "code",
   "execution_count": 7,
   "metadata": {
    "collapsed": false
   },
   "outputs": [],
   "source": [
    "# Fix OMIM ID column\n",
    "mimTitles.rename(columns={'Mim Number': \"_id\"}, inplace=True)\n",
    "mimTitles._id = mimTitles._id.apply(lambda x:\"omim:\" + x)"
   ]
  },
  {
   "cell_type": "code",
   "execution_count": 8,
   "metadata": {
    "collapsed": false
   },
   "outputs": [
    {
     "data": {
      "text/html": [
       "<div>\n",
       "<table border=\"1\" class=\"dataframe\">\n",
       "  <thead>\n",
       "    <tr style=\"text-align: right;\">\n",
       "      <th></th>\n",
       "      <th>_id</th>\n",
       "      <th>Alternative Title(s); symbol(s)</th>\n",
       "      <th>Included Title(s); symbols</th>\n",
       "      <th>type</th>\n",
       "      <th>title</th>\n",
       "      <th>symbol</th>\n",
       "    </tr>\n",
       "  </thead>\n",
       "  <tbody>\n",
       "    <tr>\n",
       "      <th>0</th>\n",
       "      <td>omim:100050</td>\n",
       "      <td>NaN</td>\n",
       "      <td>NaN</td>\n",
       "      <td>Other, mainly phenotypes with suspected mendel...</td>\n",
       "      <td>AARSKOG SYNDROME, AUTOSOMAL DOMINANT</td>\n",
       "      <td>NaN</td>\n",
       "    </tr>\n",
       "    <tr>\n",
       "      <th>1</th>\n",
       "      <td>omim:100070</td>\n",
       "      <td>ANEURYSM, ABDOMINAL AORTIC; AAA;; ABDOMINAL AO...</td>\n",
       "      <td>NaN</td>\n",
       "      <td>Phenotype description or locus, molecular basi...</td>\n",
       "      <td>AORTIC ANEURYSM, FAMILIAL ABDOMINAL, 1</td>\n",
       "      <td>AAA1</td>\n",
       "    </tr>\n",
       "    <tr>\n",
       "      <th>2</th>\n",
       "      <td>omim:100100</td>\n",
       "      <td>ABDOMINAL MUSCLES, ABSENCE OF, WITH URINARY TR...</td>\n",
       "      <td>NaN</td>\n",
       "      <td>Phenotype description, molecular basis known</td>\n",
       "      <td>PRUNE BELLY SYNDROME</td>\n",
       "      <td>PBS</td>\n",
       "    </tr>\n",
       "    <tr>\n",
       "      <th>3</th>\n",
       "      <td>omim:100200</td>\n",
       "      <td>NaN</td>\n",
       "      <td>NaN</td>\n",
       "      <td>Other, mainly phenotypes with suspected mendel...</td>\n",
       "      <td>ABDUCENS PALSY</td>\n",
       "      <td>NaN</td>\n",
       "    </tr>\n",
       "    <tr>\n",
       "      <th>4</th>\n",
       "      <td>omim:100300</td>\n",
       "      <td>AOS;; ABSENCE DEFECT OF LIMBS, SCALP, AND SKUL...</td>\n",
       "      <td>APLASIA CUTIS CONGENITA, CONGENITAL HEART DEFE...</td>\n",
       "      <td>Phenotype description, molecular basis known</td>\n",
       "      <td>ADAMS-OLIVER SYNDROME 1</td>\n",
       "      <td>AOS1</td>\n",
       "    </tr>\n",
       "  </tbody>\n",
       "</table>\n",
       "</div>"
      ],
      "text/plain": [
       "           _id                    Alternative Title(s); symbol(s)  \\\n",
       "0  omim:100050                                                NaN   \n",
       "1  omim:100070  ANEURYSM, ABDOMINAL AORTIC; AAA;; ABDOMINAL AO...   \n",
       "2  omim:100100  ABDOMINAL MUSCLES, ABSENCE OF, WITH URINARY TR...   \n",
       "3  omim:100200                                                NaN   \n",
       "4  omim:100300  AOS;; ABSENCE DEFECT OF LIMBS, SCALP, AND SKUL...   \n",
       "\n",
       "                          Included Title(s); symbols  \\\n",
       "0                                                NaN   \n",
       "1                                                NaN   \n",
       "2                                                NaN   \n",
       "3                                                NaN   \n",
       "4  APLASIA CUTIS CONGENITA, CONGENITAL HEART DEFE...   \n",
       "\n",
       "                                                type  \\\n",
       "0  Other, mainly phenotypes with suspected mendel...   \n",
       "1  Phenotype description or locus, molecular basi...   \n",
       "2       Phenotype description, molecular basis known   \n",
       "3  Other, mainly phenotypes with suspected mendel...   \n",
       "4       Phenotype description, molecular basis known   \n",
       "\n",
       "                                    title symbol  \n",
       "0    AARSKOG SYNDROME, AUTOSOMAL DOMINANT    NaN  \n",
       "1  AORTIC ANEURYSM, FAMILIAL ABDOMINAL, 1   AAA1  \n",
       "2                    PRUNE BELLY SYNDROME    PBS  \n",
       "3                          ABDUCENS PALSY    NaN  \n",
       "4                 ADAMS-OLIVER SYNDROME 1   AOS1  "
      ]
     },
     "execution_count": 8,
     "metadata": {},
     "output_type": "execute_result"
    }
   ],
   "source": [
    "mimTitles.head()"
   ]
  },
  {
   "cell_type": "code",
   "execution_count": 9,
   "metadata": {
    "collapsed": false
   },
   "outputs": [
    {
     "data": {
      "text/plain": [
       "{'_id': 'omim:100050',\n",
       " 'title': 'AARSKOG SYNDROME, AUTOSOMAL DOMINANT',\n",
       " 'type': 'Other, mainly phenotypes with suspected mendelian basis'}"
      ]
     },
     "execution_count": 9,
     "metadata": {},
     "output_type": "execute_result"
    }
   ],
   "source": [
    "mimTitles_records = [{k:v for k,v in zip(mimTitles.columns, list(record)[1:])} for record in mimTitles.to_records()]\n",
    "mimTitles_records = [{k:v for k,v in record.items() if v==v} for record in mimTitles_records]\n",
    "mimTitles_records[0]"
   ]
  },
  {
   "cell_type": "code",
   "execution_count": 10,
   "metadata": {
    "collapsed": false,
    "scrolled": true
   },
   "outputs": [],
   "source": [
    "# Fix Alternative Title(s); symbol(s)\n",
    "for record in mimTitles_records:\n",
    "    if 'Alternative Title(s); symbol(s)' in record:\n",
    "        altlist = [x for x in record['Alternative Title(s); symbol(s)'].split(\";;\")]\n",
    "        del record['Alternative Title(s); symbol(s)']\n",
    "        record['alternative'] = []\n",
    "        for alt in altlist:\n",
    "            if not alt.count(\";\"):\n",
    "                record['alternative'].append({'title': alt.strip()})\n",
    "            else:\n",
    "                record['alternative'].append({'title':alt.split(\";\",1)[0].strip(),'symbol':alt.split(\";\",1)[1].strip()})\n"
   ]
  },
  {
   "cell_type": "code",
   "execution_count": 11,
   "metadata": {
    "collapsed": true
   },
   "outputs": [],
   "source": [
    "# Fix Included Title(s); symbols\n",
    "for record in mimTitles_records:\n",
    "    if 'Included Title(s); symbols' in record:\n",
    "        altlist = [x for x in record['Included Title(s); symbols'].split(\";;\")]\n",
    "        del record['Included Title(s); symbols']\n",
    "        record['included'] = []\n",
    "        for alt in altlist:\n",
    "            if not alt.count(\";\"):\n",
    "                record['included'].append({'title': alt.strip()})\n",
    "            else:\n",
    "                record['included'].append({'title':alt.split(\";\",1)[0].strip(),'symbol':alt.split(\";\",1)[1].strip()})\n"
   ]
  },
  {
   "cell_type": "code",
   "execution_count": 12,
   "metadata": {
    "collapsed": false
   },
   "outputs": [
    {
     "data": {
      "text/plain": [
       "{'_id': 'omim:102980',\n",
       " 'alternative': [{'symbol': 'PACAP',\n",
       "   'title': 'PITUITARY ADENYLATE CYCLASE-ACTIVATING POLYPEPTIDE'}],\n",
       " 'included': [{'title': 'PACAP38, INCLUDED'},\n",
       "  {'title': 'PACAP27, INCLUDED'},\n",
       "  {'symbol': 'PRP, INCLUDED', 'title': 'PACAP-RELATED PEPTIDE, INCLUDED'}],\n",
       " 'symbol': 'ADCYAP1',\n",
       " 'title': 'ADENYLATE CYCLASE-ACTIVATING POLYPEPTIDE 1',\n",
       " 'type': 'Gene description'}"
      ]
     },
     "execution_count": 12,
     "metadata": {},
     "output_type": "execute_result"
    }
   ],
   "source": [
    "[x for x in mimTitles_records if 'alternative' in x and 'included' in x][8]"
   ]
  },
  {
   "cell_type": "code",
   "execution_count": 13,
   "metadata": {
    "collapsed": false
   },
   "outputs": [
    {
     "data": {
      "text/plain": [
       "<pymongo.results.InsertManyResult at 0x7f4845af8d80>"
      ]
     },
     "execution_count": 13,
     "metadata": {},
     "output_type": "execute_result"
    }
   ],
   "source": [
    "from pymongo import MongoClient\n",
    "client = MongoClient()\n",
    "db = client.mydisease.omim\n",
    "db.drop()\n",
    "db.insert_many(mimTitles_records)"
   ]
  },
  {
   "cell_type": "markdown",
   "metadata": {},
   "source": [
    "### geneMap2"
   ]
  },
  {
   "cell_type": "code",
   "execution_count": 14,
   "metadata": {
    "collapsed": false
   },
   "outputs": [
    {
     "data": {
      "text/html": [
       "<div>\n",
       "<table border=\"1\" class=\"dataframe\">\n",
       "  <thead>\n",
       "    <tr style=\"text-align: right;\">\n",
       "      <th></th>\n",
       "      <th>Chromosome</th>\n",
       "      <th>Genomic Position Start</th>\n",
       "      <th>Genomic Position End</th>\n",
       "      <th>Cyto Location</th>\n",
       "      <th>Computed Cyto Location</th>\n",
       "      <th>Mim Number</th>\n",
       "      <th>Gene Symbols</th>\n",
       "      <th>Gene Name</th>\n",
       "      <th>Approved Symbol</th>\n",
       "      <th>Entrez Gene ID</th>\n",
       "      <th>Ensembl Gene ID</th>\n",
       "      <th>Comments</th>\n",
       "      <th>Phenotypes</th>\n",
       "      <th>Mouse Gene Symbol/ID</th>\n",
       "    </tr>\n",
       "  </thead>\n",
       "  <tbody>\n",
       "    <tr>\n",
       "      <th>0</th>\n",
       "      <td>chr1</td>\n",
       "      <td>0</td>\n",
       "      <td>27600000</td>\n",
       "      <td>NaN</td>\n",
       "      <td>1p36</td>\n",
       "      <td>607413</td>\n",
       "      <td>AD7CNTP</td>\n",
       "      <td>Alzheimer disease neuronal thread protein</td>\n",
       "      <td>NaN</td>\n",
       "      <td>NaN</td>\n",
       "      <td>NaN</td>\n",
       "      <td>NaN</td>\n",
       "      <td>NaN</td>\n",
       "      <td>NaN</td>\n",
       "    </tr>\n",
       "    <tr>\n",
       "      <th>1</th>\n",
       "      <td>chr1</td>\n",
       "      <td>0</td>\n",
       "      <td>27600000</td>\n",
       "      <td>NaN</td>\n",
       "      <td>1p36</td>\n",
       "      <td>612367</td>\n",
       "      <td>ALPQTL2</td>\n",
       "      <td>Alkaline phosphatase, plasma level of, QTL 2</td>\n",
       "      <td>NaN</td>\n",
       "      <td>100196914.0</td>\n",
       "      <td>NaN</td>\n",
       "      <td>linkage with rs1780324</td>\n",
       "      <td>{Alkaline phosphatase, plasma level of, QTL 2}...</td>\n",
       "      <td>NaN</td>\n",
       "    </tr>\n",
       "    <tr>\n",
       "      <th>2</th>\n",
       "      <td>chr1</td>\n",
       "      <td>0</td>\n",
       "      <td>123400000</td>\n",
       "      <td>NaN</td>\n",
       "      <td>1p</td>\n",
       "      <td>606788</td>\n",
       "      <td>ANON1</td>\n",
       "      <td>Anorexia nervosa, susceptibility to, 1</td>\n",
       "      <td>NaN</td>\n",
       "      <td>171514.0</td>\n",
       "      <td>NaN</td>\n",
       "      <td>NaN</td>\n",
       "      <td>{Anorexia nervosa, susceptibility to, 1}, 6067...</td>\n",
       "      <td>NaN</td>\n",
       "    </tr>\n",
       "    <tr>\n",
       "      <th>3</th>\n",
       "      <td>chr1</td>\n",
       "      <td>0</td>\n",
       "      <td>27600000</td>\n",
       "      <td>NaN</td>\n",
       "      <td>1p36</td>\n",
       "      <td>605462</td>\n",
       "      <td>BCC1</td>\n",
       "      <td>Basal cell carcinoma, susceptibility to, 1</td>\n",
       "      <td>NaN</td>\n",
       "      <td>100307118.0</td>\n",
       "      <td>NaN</td>\n",
       "      <td>associated with rs7538876</td>\n",
       "      <td>{Basal cell carcinoma, susceptibility to, 1}, ...</td>\n",
       "      <td>NaN</td>\n",
       "    </tr>\n",
       "    <tr>\n",
       "      <th>4</th>\n",
       "      <td>chr1</td>\n",
       "      <td>0</td>\n",
       "      <td>27600000</td>\n",
       "      <td>NaN</td>\n",
       "      <td>1p36</td>\n",
       "      <td>606928</td>\n",
       "      <td>BMND3</td>\n",
       "      <td>Bone mineral density QTL 3</td>\n",
       "      <td>NaN</td>\n",
       "      <td>246259.0</td>\n",
       "      <td>NaN</td>\n",
       "      <td>?another locus at 3p21</td>\n",
       "      <td>[Bone mineral density QTL 3], 606928 (2)</td>\n",
       "      <td>NaN</td>\n",
       "    </tr>\n",
       "  </tbody>\n",
       "</table>\n",
       "</div>"
      ],
      "text/plain": [
       "  Chromosome  Genomic Position Start  Genomic Position End Cyto Location  \\\n",
       "0       chr1                       0              27600000           NaN   \n",
       "1       chr1                       0              27600000           NaN   \n",
       "2       chr1                       0             123400000           NaN   \n",
       "3       chr1                       0              27600000           NaN   \n",
       "4       chr1                       0              27600000           NaN   \n",
       "\n",
       "  Computed Cyto Location  Mim Number Gene Symbols  \\\n",
       "0                   1p36      607413      AD7CNTP   \n",
       "1                   1p36      612367      ALPQTL2   \n",
       "2                     1p      606788        ANON1   \n",
       "3                   1p36      605462         BCC1   \n",
       "4                   1p36      606928        BMND3   \n",
       "\n",
       "                                      Gene Name Approved Symbol  \\\n",
       "0     Alzheimer disease neuronal thread protein             NaN   \n",
       "1  Alkaline phosphatase, plasma level of, QTL 2             NaN   \n",
       "2        Anorexia nervosa, susceptibility to, 1             NaN   \n",
       "3    Basal cell carcinoma, susceptibility to, 1             NaN   \n",
       "4                    Bone mineral density QTL 3             NaN   \n",
       "\n",
       "   Entrez Gene ID Ensembl Gene ID                   Comments  \\\n",
       "0             NaN             NaN                        NaN   \n",
       "1     100196914.0             NaN     linkage with rs1780324   \n",
       "2        171514.0             NaN                        NaN   \n",
       "3     100307118.0             NaN  associated with rs7538876   \n",
       "4        246259.0             NaN     ?another locus at 3p21   \n",
       "\n",
       "                                          Phenotypes Mouse Gene Symbol/ID  \n",
       "0                                                NaN                  NaN  \n",
       "1  {Alkaline phosphatase, plasma level of, QTL 2}...                  NaN  \n",
       "2  {Anorexia nervosa, susceptibility to, 1}, 6067...                  NaN  \n",
       "3  {Basal cell carcinoma, susceptibility to, 1}, ...                  NaN  \n",
       "4           [Bone mineral density QTL 3], 606928 (2)                  NaN  "
      ]
     },
     "execution_count": 14,
     "metadata": {},
     "output_type": "execute_result"
    }
   ],
   "source": [
    "geneMap2 = pd.read_csv(geneMap2_url, sep='\\t', comment='#', names=geneMap2_names)\n",
    "geneMap2.head()"
   ]
  },
  {
   "cell_type": "code",
   "execution_count": 15,
   "metadata": {
    "collapsed": false
   },
   "outputs": [
    {
     "data": {
      "text/plain": [
       "'Immunodeficiency 38, 616126 (3), Autosomal recessive'"
      ]
     },
     "execution_count": 15,
     "metadata": {},
     "output_type": "execute_result"
    }
   ],
   "source": [
    "geneMap2.Phenotypes[21]"
   ]
  },
  {
   "cell_type": "code",
   "execution_count": null,
   "metadata": {
    "collapsed": true
   },
   "outputs": [],
   "source": []
  },
  {
   "cell_type": "code",
   "execution_count": null,
   "metadata": {
    "collapsed": true
   },
   "outputs": [],
   "source": []
  },
  {
   "cell_type": "code",
   "execution_count": null,
   "metadata": {
    "collapsed": true
   },
   "outputs": [],
   "source": []
  },
  {
   "cell_type": "code",
   "execution_count": null,
   "metadata": {
    "collapsed": true
   },
   "outputs": [],
   "source": []
  },
  {
   "cell_type": "code",
   "execution_count": null,
   "metadata": {
    "collapsed": true
   },
   "outputs": [],
   "source": []
  },
  {
   "cell_type": "code",
   "execution_count": null,
   "metadata": {
    "collapsed": true
   },
   "outputs": [],
   "source": []
  },
  {
   "cell_type": "code",
   "execution_count": null,
   "metadata": {
    "collapsed": true
   },
   "outputs": [],
   "source": []
  },
  {
   "cell_type": "markdown",
   "metadata": {},
   "source": [
    "What do brackets [ ], braces { }, a question mark (?), and the numbers (1)(2)(3)(4) mean in the Disorder column of the Gene Map?\n",
    "\n",
    "Brackets, \"[ ]\", indicate \"nondiseases,\" mainly genetic variations that lead to apparently abnormal laboratory test values (e.g., dysalbuminemic euthyroidal hyperthyroxinemia).\n",
    "\n",
    "Braces, \"{ }\", indicate mutations that contribute to susceptibility to multifactorial disorders (e.g., diabetes, asthma) or to susceptibility to infection (e.g., malaria).\n",
    "\n",
    "A question mark, \"?\", before the disease name indicates an unconfirmed or possibly spurious mapping.\n",
    "\n",
    "The number in parentheses after the name of each disorder indicates the following: (1) the disorder was positioned by mapping of the wildtype gene; (2) the disease phenotype itself was mapped; (3) the molecular basis of the disorder is known; (4) the disorder is a chromosome deletion or duplication syndrome. Move the cursor over the number to display this information."
   ]
  }
 ],
 "metadata": {
  "kernelspec": {
   "display_name": "Python 3",
   "language": "python",
   "name": "python3"
  },
  "language_info": {
   "codemirror_mode": {
    "name": "ipython",
    "version": 3
   },
   "file_extension": ".py",
   "mimetype": "text/x-python",
   "name": "python",
   "nbconvert_exporter": "python",
   "pygments_lexer": "ipython3",
   "version": "3.5.2"
  }
 },
 "nbformat": 4,
 "nbformat_minor": 0
}
