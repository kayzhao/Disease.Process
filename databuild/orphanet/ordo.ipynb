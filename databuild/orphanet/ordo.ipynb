{
 "cells": [
  {
   "cell_type": "markdown",
   "metadata": {},
   "source": [
    "## Orphanet Rare Disease Ontology (ORDO)\n",
    "http://www.orphadata.org/cgi-bin/inc/ordo_orphanet.inc.php\n",
    "\n",
    "http://bioportal.bioontology.org/ontologies/ORDO\n",
    "\n",
    "http://data.bioontology.org/ontologies/ORDO/download?apikey=8b5b7825-538d-40e0-9e9e-5ab9274a9aeb&download_format=csv"
   ]
  },
  {
   "cell_type": "code",
   "execution_count": 3,
   "metadata": {
    "collapsed": true
   },
   "outputs": [],
   "source": [
    "from mydisease.utils.common import list2dict\n",
    "import json\n",
    "import numpy as np\n",
    "from collections import defaultdict\n",
    "import pandas as pd\n",
    "pd.set_option(\"display.width\", 200)"
   ]
  },
  {
   "cell_type": "code",
   "execution_count": 11,
   "metadata": {
    "collapsed": false
   },
   "outputs": [
    {
     "data": {
      "text/html": [
       "<div>\n",
       "<table border=\"1\" class=\"dataframe\">\n",
       "  <thead>\n",
       "    <tr style=\"text-align: right;\">\n",
       "      <th></th>\n",
       "      <th>_id</th>\n",
       "      <th>preferred_label</th>\n",
       "      <th>synonyms</th>\n",
       "      <th>definitions</th>\n",
       "      <th>parents</th>\n",
       "      <th>part_of</th>\n",
       "      <th>tree_view</th>\n",
       "      <th>alternative_term</th>\n",
       "      <th>definition</th>\n",
       "      <th>definition_citation</th>\n",
       "      <th>reason_for_obsolescence</th>\n",
       "      <th>symbol</th>\n",
       "    </tr>\n",
       "  </thead>\n",
       "  <tbody>\n",
       "    <tr>\n",
       "      <th>0</th>\n",
       "      <td>orphanet:1390</td>\n",
       "      <td>Night blindness-skeletal anomalies-dysmorphism...</td>\n",
       "      <td>[Hunter-Thompson-Reed syndrome]</td>\n",
       "      <td>NaN</td>\n",
       "      <td>[orphanet:377789]</td>\n",
       "      <td>[orphanet:102285, orphanet:330206]</td>\n",
       "      <td>[orphanet:102285, orphanet:330206]</td>\n",
       "      <td>[Hunter-Thompson-Reed syndrome]</td>\n",
       "      <td>NaN</td>\n",
       "      <td>NaN</td>\n",
       "      <td>NaN</td>\n",
       "      <td>NaN</td>\n",
       "    </tr>\n",
       "    <tr>\n",
       "      <th>2</th>\n",
       "      <td>orphanet:264694</td>\n",
       "      <td>Interstitial lung disease specific to infancy</td>\n",
       "      <td>[ILD specific to infancy]</td>\n",
       "      <td>NaN</td>\n",
       "      <td>[orphanet:377794, orphanet:264665]</td>\n",
       "      <td>NaN</td>\n",
       "      <td>NaN</td>\n",
       "      <td>[ILD specific to infancy]</td>\n",
       "      <td>NaN</td>\n",
       "      <td>NaN</td>\n",
       "      <td>NaN</td>\n",
       "      <td>NaN</td>\n",
       "    </tr>\n",
       "    <tr>\n",
       "      <th>3</th>\n",
       "      <td>orphanet:69735</td>\n",
       "      <td>Hypotrichosis-lymphedema-telangiectasia-renal ...</td>\n",
       "      <td>[Hypotrichosis-lymphedema-telangiectasia-membr...</td>\n",
       "      <td>Hypotrichosis - lymphedema - telangiectasia is...</td>\n",
       "      <td>[orphanet:377788]</td>\n",
       "      <td>[orphanet:89832, orphanet:102373]</td>\n",
       "      <td>[orphanet:89832, orphanet:102373]</td>\n",
       "      <td>[Hypotrichosis-lymphedema-telangiectasia-membr...</td>\n",
       "      <td>Hypotrichosis - lymphedema - telangiectasia is...</td>\n",
       "      <td>orphanet</td>\n",
       "      <td>NaN</td>\n",
       "      <td>NaN</td>\n",
       "    </tr>\n",
       "    <tr>\n",
       "      <th>4</th>\n",
       "      <td>orphanet:454</td>\n",
       "      <td>Acquired ichthyosis</td>\n",
       "      <td>NaN</td>\n",
       "      <td>NaN</td>\n",
       "      <td>[orphanet:377788]</td>\n",
       "      <td>[orphanet:79354]</td>\n",
       "      <td>[orphanet:79354]</td>\n",
       "      <td>NaN</td>\n",
       "      <td>NaN</td>\n",
       "      <td>NaN</td>\n",
       "      <td>NaN</td>\n",
       "      <td>NaN</td>\n",
       "    </tr>\n",
       "    <tr>\n",
       "      <th>5</th>\n",
       "      <td>orphanet:3451</td>\n",
       "      <td>West syndrome</td>\n",
       "      <td>[Infantile spasms, Intellectual disability-hyp...</td>\n",
       "      <td>NaN</td>\n",
       "      <td>[orphanet:377792]</td>\n",
       "      <td>[orphanet:183763, orphanet:182079, orphanet:98...</td>\n",
       "      <td>[orphanet:183763, orphanet:182079, orphanet:98...</td>\n",
       "      <td>[Infantile spasms, Intellectual disability-hyp...</td>\n",
       "      <td>NaN</td>\n",
       "      <td>NaN</td>\n",
       "      <td>NaN</td>\n",
       "      <td>NaN</td>\n",
       "    </tr>\n",
       "  </tbody>\n",
       "</table>\n",
       "</div>"
      ],
      "text/plain": [
       "               _id                                    preferred_label                                           synonyms                                        definitions  \\\n",
       "0    orphanet:1390  Night blindness-skeletal anomalies-dysmorphism...                    [Hunter-Thompson-Reed syndrome]                                                NaN   \n",
       "2  orphanet:264694      Interstitial lung disease specific to infancy                          [ILD specific to infancy]                                                NaN   \n",
       "3   orphanet:69735  Hypotrichosis-lymphedema-telangiectasia-renal ...  [Hypotrichosis-lymphedema-telangiectasia-membr...  Hypotrichosis - lymphedema - telangiectasia is...   \n",
       "4     orphanet:454                                Acquired ichthyosis                                                NaN                                                NaN   \n",
       "5    orphanet:3451                                      West syndrome  [Infantile spasms, Intellectual disability-hyp...                                                NaN   \n",
       "\n",
       "                              parents                                            part_of                                          tree_view                                   alternative_term  \\\n",
       "0                   [orphanet:377789]                 [orphanet:102285, orphanet:330206]                 [orphanet:102285, orphanet:330206]                    [Hunter-Thompson-Reed syndrome]   \n",
       "2  [orphanet:377794, orphanet:264665]                                                NaN                                                NaN                          [ILD specific to infancy]   \n",
       "3                   [orphanet:377788]                  [orphanet:89832, orphanet:102373]                  [orphanet:89832, orphanet:102373]  [Hypotrichosis-lymphedema-telangiectasia-membr...   \n",
       "4                   [orphanet:377788]                                   [orphanet:79354]                                   [orphanet:79354]                                                NaN   \n",
       "5                   [orphanet:377792]  [orphanet:183763, orphanet:182079, orphanet:98...  [orphanet:183763, orphanet:182079, orphanet:98...  [Infantile spasms, Intellectual disability-hyp...   \n",
       "\n",
       "                                          definition definition_citation reason_for_obsolescence symbol  \n",
       "0                                                NaN                 NaN                     NaN    NaN  \n",
       "2                                                NaN                 NaN                     NaN    NaN  \n",
       "3  Hypotrichosis - lymphedema - telangiectasia is...            orphanet                     NaN    NaN  \n",
       "4                                                NaN                 NaN                     NaN    NaN  \n",
       "5                                                NaN                 NaN                     NaN    NaN  "
      ]
     },
     "execution_count": 11,
     "metadata": {},
     "output_type": "execute_result"
    }
   ],
   "source": [
    "columns_rename = {\"http://data.bioontology.org/metadata/obo/part_of\": \"part_of\",\n",
    "                  \"http://data.bioontology.org/metadata/treeView\": \"tree_view\",\n",
    "                  \"http://www.ebi.ac.uk/efo/alternative_term\": \"alternative_term\",\n",
    "                  \"http://www.ebi.ac.uk/efo/definition\": \"definition\",\n",
    "                  \"http://www.ebi.ac.uk/efo/definition_citation\": \"definition_citation\",\n",
    "                  \"http://www.ebi.ac.uk/efo/reason_for_obsolescence\": \"reason_for_obsolescence\",\n",
    "                  \"http://www.geneontology.org/formats/oboInOwl#hasDbXref\": \"xref\",\n",
    "                  \"http://www.orpha.net/ORDO/Orphanet_#symbol\": \"symbol\",\n",
    "                  \"Synonyms\": \"synonyms\",\n",
    "                  \"Obsolete\": \"obsolete\",\n",
    "                  \"Class ID\": \"id\",\n",
    "                  \"Preferred Label\": \"preferred_label\",\n",
    "                  \"Parents\": \"parents\",\n",
    "                  \"Definitions\": \"definitions\"\n",
    "                  }\n",
    "df = pd.read_csv(\"/home/gstupp/projects/biothings/mydisease/mydisease/data/ORDO.csv.gz\")\n",
    "del df[\"http://www.geneontology.org/formats/oboInOwl#hasDbXref\"]\n",
    "# throw away columns that are all null\n",
    "df = df[df.columns[df.isnull().sum()!=len(df)]]\n",
    "df = df.rename(index=str, columns=columns_rename)\n",
    "df = df[~df.obsolete]\n",
    "df = df[df.symbol.isnull()]\n",
    "del df['obsolete']\n",
    "\n",
    "for col in ['parents','part_of','tree_view','id']:\n",
    "    df[col] = df[col].str.replace(\"http://www.orpha.net/ORDO/\", \"\").str.replace(\"_\",\":\").str.lower()\n",
    "list_attribs = ['synonyms','parents','part_of','tree_view','alternative_term']\n",
    "for col in list_attribs:\n",
    "    df[col] = df[col].str.split(\"|\").copy()\n",
    "df.rename(columns={'id':'_id'}, inplace=True)\n",
    "df.head()"
   ]
  },
  {
   "cell_type": "code",
   "execution_count": 19,
   "metadata": {
    "collapsed": false
   },
   "outputs": [],
   "source": [
    "df_records = df.apply(lambda x:x.dropna().to_dict(), axis=1)\n",
    "d = {record[\"_id\"]: record for record in df_records}"
   ]
  },
  {
   "cell_type": "code",
   "execution_count": 20,
   "metadata": {
    "collapsed": false
   },
   "outputs": [
    {
     "data": {
      "text/plain": [
       "{'_id': 'orphanet:723',\n",
       " 'parents': ['orphanet:377788'],\n",
       " 'part_of': ['orphanet:163591'],\n",
       " 'preferred_label': 'Pneumocystosis',\n",
       " 'tree_view': ['orphanet:163591']}"
      ]
     },
     "execution_count": 20,
     "metadata": {},
     "output_type": "execute_result"
    }
   ],
   "source": [
    "d['orphanet:723']"
   ]
  },
  {
   "cell_type": "markdown",
   "metadata": {},
   "source": [
    "# Load in cross refs\n",
    "## Rare diseases and cross-referencing\n",
    "## Keeping xref as those with exact match (E) or BTNT (broad term -> narrow term)\n",
    "\n",
    "http://www.orphadata.org/cgi-bin/inc/product1.inc.php"
   ]
  },
  {
   "cell_type": "code",
   "execution_count": 21,
   "metadata": {
    "collapsed": true
   },
   "outputs": [],
   "source": [
    "import xml.etree.ElementTree as et\n",
    "tree = et.parse('/home/gstupp/projects/biothings/mydisease/mydisease/data/en_product1.xml')\n",
    "root = tree.getroot()"
   ]
  },
  {
   "cell_type": "code",
   "execution_count": 22,
   "metadata": {
    "collapsed": false
   },
   "outputs": [],
   "source": [
    "id_replace = {\"umls\": \"umls_cui\",\n",
    " \"icd-10\": \"icd10cm\"}\n",
    "for disease in root.find(\"DisorderList\"):    \n",
    "    name = disease.find(\"Name\").text\n",
    "    orpha = \"orphanet:\" + disease.find(\"OrphaNumber\").text\n",
    "    references = disease.findall(\"ExternalReferenceList/ExternalReference\")\n",
    "    mapping = defaultdict(list)\n",
    "    xrefs = []\n",
    "    for ref in references:\n",
    "        source = ref.find(\"Source\").text.lower()\n",
    "        source = id_replace.get(source, source)\n",
    "        reference = ref.find(\"Reference\").text\n",
    "        mapping_relation = ref.find(\"DisorderMappingRelation/Name\").text.split(\" \",1)[0]\n",
    "        if source == \"icd10cm\":\n",
    "            reference = reference.replace(\"-\", \"\").replace(\"*\",\"\").replace(\"+\",\"\")\n",
    "        xref = source + \":\" + reference\n",
    "        mapping[mapping_relation].append(xref)\n",
    "        if mapping_relation in {'E', 'BTNT'}:\n",
    "            xrefs.append(xref)\n",
    "    xrefs = list2dict(xrefs)\n",
    "    synonyms = [x.text for x in disease.findall(\"SynonymList/Synonym\")]\n",
    "    if orpha in d:\n",
    "        d[orpha].update({'xref': xrefs, 'mapping': dict(mapping)})\n",
    "    else:\n",
    "        d[orpha] = {'preferred_label': name, 'synonyms': synonyms,\n",
    "                   'xref': xrefs, 'mapping': dict(mapping), '_id': orpha}"
   ]
  },
  {
   "cell_type": "code",
   "execution_count": 24,
   "metadata": {
    "collapsed": false
   },
   "outputs": [
    {
     "data": {
      "text/plain": [
       "{'_id': 'orphanet:723',\n",
       " 'mapping': {'E': ['icd10cm:B59'], 'NTBT': ['icd10cm:J17.3']},\n",
       " 'parents': ['orphanet:377788'],\n",
       " 'part_of': ['orphanet:163591'],\n",
       " 'preferred_label': 'Pneumocystosis',\n",
       " 'tree_view': ['orphanet:163591'],\n",
       " 'xref': {'icd10cm': ['B59']}}"
      ]
     },
     "execution_count": 24,
     "metadata": {},
     "output_type": "execute_result"
    }
   ],
   "source": [
    "d['orphanet:723']"
   ]
  },
  {
   "cell_type": "code",
   "execution_count": 25,
   "metadata": {
    "collapsed": false
   },
   "outputs": [
    {
     "data": {
      "text/plain": [
       "{'_id': 'orphanet:3451',\n",
       " 'alternative_term': ['Infantile spasms',\n",
       "  'Intellectual disability-hypsarrhythmia syndrome'],\n",
       " 'mapping': {'BTNT': ['omim:300672',\n",
       "   'omim:308350',\n",
       "   'omim:613477',\n",
       "   'omim:613722',\n",
       "   'omim:615006',\n",
       "   'omim:616139',\n",
       "   'omim:616341',\n",
       "   'omim:617065'],\n",
       "  'E': ['meddra:10021750', 'umls_cui:C0037769'],\n",
       "  'NTBT': ['icd10cm:G40.4']},\n",
       " 'parents': ['orphanet:377792'],\n",
       " 'part_of': ['orphanet:183763',\n",
       "  'orphanet:182079',\n",
       "  'orphanet:98258',\n",
       "  'orphanet:102369'],\n",
       " 'preferred_label': 'West syndrome',\n",
       " 'synonyms': ['Infantile spasms',\n",
       "  'Intellectual disability-hypsarrhythmia syndrome'],\n",
       " 'tree_view': ['orphanet:183763',\n",
       "  'orphanet:182079',\n",
       "  'orphanet:98258',\n",
       "  'orphanet:102369'],\n",
       " 'xref': {'meddra': ['10021750'],\n",
       "  'omim': ['300672',\n",
       "   '308350',\n",
       "   '613477',\n",
       "   '613722',\n",
       "   '615006',\n",
       "   '616139',\n",
       "   '616341',\n",
       "   '617065'],\n",
       "  'umls_cui': ['C0037769']}}"
      ]
     },
     "execution_count": 25,
     "metadata": {},
     "output_type": "execute_result"
    }
   ],
   "source": [
    "d['orphanet:3451']"
   ]
  },
  {
   "cell_type": "code",
   "execution_count": 30,
   "metadata": {
    "collapsed": false
   },
   "outputs": [
    {
     "data": {
      "text/plain": [
       "<pymongo.results.InsertManyResult at 0x7f54cf8e69d8>"
      ]
     },
     "execution_count": 30,
     "metadata": {},
     "output_type": "execute_result"
    }
   ],
   "source": [
    "from pymongo import MongoClient\n",
    "client = MongoClient()\n",
    "db = client.mydisease.orphanet\n",
    "db.drop()\n",
    "db.insert_many(list(d.values()))"
   ]
  },
  {
   "cell_type": "code",
   "execution_count": 31,
   "metadata": {
    "collapsed": false
   },
   "outputs": [
    {
     "data": {
      "text/plain": [
       "{'_id': 'orphanet:723',\n",
       " 'mapping': {'E': ['icd10cm:B59'], 'NTBT': ['icd10cm:J17.3']},\n",
       " 'parents': ['orphanet:377788'],\n",
       " 'part_of': ['orphanet:163591'],\n",
       " 'preferred_label': 'Pneumocystosis',\n",
       " 'tree_view': ['orphanet:163591'],\n",
       " 'xref': {'icd10cm': ['B59']}}"
      ]
     },
     "execution_count": 31,
     "metadata": {},
     "output_type": "execute_result"
    }
   ],
   "source": [
    "db.find_one('orphanet:723')"
   ]
  },
  {
   "cell_type": "code",
   "execution_count": 28,
   "metadata": {
    "collapsed": false
   },
   "outputs": [
    {
     "data": {
      "text/plain": [
       "[('omim', 4026),\n",
       " ('umls_cui', 2886),\n",
       " ('mesh', 1763),\n",
       " ('meddra', 1170),\n",
       " ('icd10cm', 747)]"
      ]
     },
     "execution_count": 28,
     "metadata": {},
     "output_type": "execute_result"
    }
   ],
   "source": [
    "from collections import Counter\n",
    "from itertools import chain\n",
    "Counter([x.split(\":\")[0] for x in chain(*[x.get('xref',[]) for x in d.values()])]).most_common(100)"
   ]
  },
  {
   "cell_type": "code",
   "execution_count": 29,
   "metadata": {
    "collapsed": false
   },
   "outputs": [
    {
     "data": {
      "text/plain": [
       "Counter({0: 6513, 1: 2886})"
      ]
     },
     "execution_count": 29,
     "metadata": {},
     "output_type": "execute_result"
    }
   ],
   "source": [
    "# how many ICD10CM xrefs does each ORDO item have?\n",
    "xrefs = list(db.find({'xref':{'$exists': True}},{'xref':1}))\n",
    "Counter([[y.split(\":\")[0] for y in x['xref']].count(\"umls_cui\") for x in xrefs])"
   ]
  },
  {
   "cell_type": "code",
   "execution_count": null,
   "metadata": {
    "collapsed": true
   },
   "outputs": [],
   "source": [
    ""
   ]
  }
 ],
 "metadata": {
  "kernelspec": {
   "display_name": "Python 3",
   "language": "python",
   "name": "python3"
  },
  "language_info": {
   "codemirror_mode": {
    "name": "ipython",
    "version": 3.0
   },
   "file_extension": ".py",
   "mimetype": "text/x-python",
   "name": "python",
   "nbconvert_exporter": "python",
   "pygments_lexer": "ipython3",
   "version": "3.5.2"
  }
 },
 "nbformat": 4,
 "nbformat_minor": 0
}