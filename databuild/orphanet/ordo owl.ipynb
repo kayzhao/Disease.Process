{
 "cells": [
  {
   "cell_type": "code",
   "execution_count": null,
   "metadata": {
    "collapsed": true
   },
   "outputs": [],
   "source": [
    "## ORDO OWL\n",
    "# Orphanet Rare Disease Ontology (ORDO)\n",
    "# http://www.orphadata.org/cgi-bin/inc/ordo_orphanet.inc.php\n",
    "# http://bioportal.bioontology.org/ontologies/ORDO\n",
    "# http://www.orphadata.org/data/ORDO/ordo_orphanet.owl.zip"
   ]
  },
  {
   "cell_type": "code",
   "execution_count": 24,
   "metadata": {
    "collapsed": false
   },
   "outputs": [],
   "source": [
    "import json\n",
    "from pprint import pprint\n",
    "\n",
    "import requests\n",
    "from rdflib import Graph\n",
    "path = \"/home/gstupp/projects/biothings/mydisease/mydisease/data/ordo_orphanet.owl\"\n",
    "g = Graph().parse(path, format='application/rdf+xml')\n"
   ]
  },
  {
   "cell_type": "code",
   "execution_count": 80,
   "metadata": {
    "collapsed": false
   },
   "outputs": [
    {
     "data": {
      "text/plain": [
       "rdflib.term.URIRef('http://www.orpha.net/ORDO/Orphanet_100020')"
      ]
     },
     "execution_count": 80,
     "metadata": {},
     "output_type": "execute_result"
    }
   ],
   "source": [
    "from rdflib.term import URIRef, BNode\n",
    "URIRef('http://www.orpha.net/ORDO/Orphanet_100020')"
   ]
  },
  {
   "cell_type": "code",
   "execution_count": 82,
   "metadata": {
    "collapsed": false
   },
   "outputs": [
    {
     "name": "stdout",
     "output_type": "stream",
     "text": [
      "http://www.orpha.net/ORDO/Orphanet_100020 http://www.ebi.ac.uk/efo/definition Refractory anemia with excess blasts (RAEB), type 2 is a very severe type of RAEB (see this term) characterized by cytopenias and the following hematological parameters: uni- or multilineage dysplasia, 10% to 19% blasts in bone marrow or 5% to 19% in peripheral blood, variable presence of Auer rods (abnormal, needle-shaped or round inclusions in the cytoplasm of myeloblasts and promyelocytes). Median survival has been reported to be 18 months.\n",
      "http://www.orpha.net/ORDO/Orphanet_100020 http://www.w3.org/2000/01/rdf-schema#label Refractory anemia with excess blasts type 2\n",
      "http://www.orpha.net/ORDO/Orphanet_100020 http://www.w3.org/2000/01/rdf-schema#subClassOf N4de7f058e758433ebe42e0680e0e832d\n",
      "http://www.orpha.net/ORDO/Orphanet_100020 http://www.w3.org/2000/01/rdf-schema#subClassOf Na9f1b4a7d83c4596942862a74068cfc0\n",
      "http://www.orpha.net/ORDO/Orphanet_100020 http://www.w3.org/2000/01/rdf-schema#subClassOf N7d0539f355144cba961a64b492eac640\n",
      "http://www.orpha.net/ORDO/Orphanet_100020 http://www.geneontology.org/formats/oboInOwl#hasDbXref UMLS:C1318551\n",
      "http://www.orpha.net/ORDO/Orphanet_100020 http://www.w3.org/1999/02/22-rdf-syntax-ns#type http://www.w3.org/2002/07/owl#Class\n",
      "http://www.orpha.net/ORDO/Orphanet_100020 http://www.w3.org/2000/01/rdf-schema#subClassOf N1b1edd21115246a68cbdabaf6556988d\n",
      "http://www.orpha.net/ORDO/Orphanet_100020 http://www.geneontology.org/formats/oboInOwl#hasDbXref ICD-10:D46.2\n",
      "http://www.orpha.net/ORDO/Orphanet_100020 http://www.ebi.ac.uk/efo/alternative_term RAEB-2\n",
      "http://www.orpha.net/ORDO/Orphanet_100020 http://www.ebi.ac.uk/efo/definition_citation orphanet\n",
      "http://www.orpha.net/ORDO/Orphanet_100020 http://www.w3.org/2000/01/rdf-schema#subClassOf http://www.orpha.net/ORDO/Orphanet_377796\n"
     ]
    }
   ],
   "source": [
    "from rdflib.namespace import RDF\n",
    "for s,p,o in g.triples( (URIRef('http://www.orpha.net/ORDO/Orphanet_100020'),  None, None) ):\n",
    "    print(\"%s %s %s\"%(s,p,o))"
   ]
  },
  {
   "cell_type": "code",
   "execution_count": 85,
   "metadata": {
    "collapsed": false
   },
   "outputs": [
    {
     "name": "stdout",
     "output_type": "stream",
     "text": [
      "N1b1edd21115246a68cbdabaf6556988d http://www.w3.org/1999/02/22-rdf-syntax-ns#type http://www.w3.org/2002/07/owl#Restriction\n",
      "N1b1edd21115246a68cbdabaf6556988d http://www.w3.org/2002/07/owl#onProperty http://www.orpha.net/ORDO/Orphanet_C017\n",
      "N1b1edd21115246a68cbdabaf6556988d http://www.w3.org/2002/07/owl#someValuesFrom http://www.orpha.net/ORDO/Orphanet_409948\n"
     ]
    }
   ],
   "source": [
    "from rdflib.namespace import RDF\n",
    "for s,p,o in g.triples( (BNode('N1b1edd21115246a68cbdabaf6556988d'),  None, None) ):\n",
    "    print(\"%s %s %s\"%(s,p,o))"
   ]
  }
 ],
 "metadata": {
  "kernelspec": {
   "display_name": "Python 3",
   "language": "python",
   "name": "python3"
  },
  "language_info": {
   "codemirror_mode": {
    "name": "ipython",
    "version": 3
   },
   "file_extension": ".py",
   "mimetype": "text/x-python",
   "name": "python",
   "nbconvert_exporter": "python",
   "pygments_lexer": "ipython3",
   "version": "3.5.2"
  }
 },
 "nbformat": 4,
 "nbformat_minor": 0
}
