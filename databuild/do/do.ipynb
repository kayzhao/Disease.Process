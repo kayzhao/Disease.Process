{
 "cells": [
  {
   "cell_type": "code",
   "execution_count": 1,
   "metadata": {
    "collapsed": true
   },
   "outputs": [],
   "source": [
    "import re\n",
    "from itertools import chain\n",
    "import networkx\n",
    "import requests\n",
    "from mydisease.utils import read_obo\n",
    "from mydisease.utils.common import list2dict\n",
    "\n",
    "from networkx.readwrite import json_graph\n",
    "import json\n",
    "from collections import defaultdict\n",
    "from typing import List\n",
    "\n",
    "from pymongo import MongoClient\n",
    "client = MongoClient()\n",
    "db = client.mydisease.DO"
   ]
  },
  {
   "cell_type": "code",
   "execution_count": 2,
   "metadata": {
    "collapsed": false
   },
   "outputs": [],
   "source": [
    "def graph_to_d(graph):\n",
    "    \"\"\"\n",
    "    :param graph: A networkx graph made from reading ontology\n",
        "    :type graph: networkx.classes.multidigraph.MultiDiGraph\n",
        "    :return:\n",
    "    \"\"\"\n",
    "    node_link_data = json_graph.node_link_data(graph)\n",
    "    nodes = node_link_data['nodes']\n",
    "\n",
    "    idx_id = {idx: node['id'] for idx,node in enumerate(nodes)}\n",
    "    for link in node_link_data['links']:\n",
    "        # store the edges (links) within the graph\n",
    "        key = link['key']\n",
    "        source = link['source']\n",
    "        target = link['target']\n",
    "\n",
    "        if key not in nodes[source]:\n",
    "            nodes[source][key] = set()\n",
    "        nodes[source][key].add(idx_id[target])\n",
    "\n",
    "    # for mongo insertion\n",
    "    for node in nodes:\n",
    "        node['_id'] = node['id'].lower()\n",
    "        if \"alt_id\" in node:\n",
    "            node['alt_id'] = [x.lower() for x in node['alt_id']]\n",
    "        if \"is_a\" in node:\n",
    "            node['is_a'] = [x.lower() for x in node['is_a']]\n",
    "        if \"property_value\" in node:\n",
    "            del node['property_value']\n",
    "        del node['id']\n",
    "        for k,v in node.items():\n",
    "            if isinstance(v, set):\n",
    "                node[k] = list(v)\n",
    "    d = {node['_id']: node for node in nodes}\n",
    "\n",
    "    return d\n",
    "\n",
    "\n",
    "def parse_synonym(line: str):\n",
    "    # line = \"synonym: \\\"The other white meat\\\" EXACT MARKETING_SLOGAN [MEAT:00324, BACONBASE:03021]\"\n",
    "    return line[line.index(\"\\\"\")+1:line.rindex(\"\\\"\")] if line.count(\"\\\"\") == 2 else line\n",
    "\n",
    "\n",
    "def parse_def(line: str):\n",
    "    \"\"\"\n",
    "    Parse definition field.\n",
    "    Returns a tuple(definition, list of crosslink urls)\n",
    "    \n",
    "    >>> parse_def(\"\\\"A description.\\\" [url:http://www.ncbi.goc/123, url:http://www.ncbi.nlm.nih.gov/pubmed/15318016]\")\n",
    "    ('A description.', ['url:http\\\\://www.ncbi.goc/123', 'url:http\\\\://www.ncbi.nlm.nih.gov/pubmed/1531801'])\n",
    "    \n",
    "    \"\"\"\n",
    "    definition = line[line.index(\"\\\"\")+1:line.rindex(\"\\\"\")] if line.count(\"\\\"\") == 2 else line\n",
    "    if line.endswith(\"]\") and line.count(\"[\"):\n",
    "        left_bracket = [m.start() for m in re.finditer('\\[', line)]\n",
    "        right_bracket = [m.start() for m in re.finditer('\\]', line)]\n",
    "        endliststr = line[left_bracket[-1]+1:right_bracket[-1]]\n",
    "        endlist = [x.strip().replace(\"\\\\\\\\\",\"\").replace(\"\\\\\",\"\") for x in endliststr.split(\", \")]\n",
    "        return definition, endlist\n",
    "    else:\n",
    "        return definition, None\n",
    "\n",
    "\n",
    "def parse_xref(xrefs: List[str]):\n",
    "    \"\"\"\n",
    "    Parse xref field. Input is list of strings (xref IDs)\n",
    "    Normalizes prefix strings (MSH -> MESH, ORDO -> Orphanet) and converts prefix to lowercase\n",
    "    Returns dict[ID prefix: list of IDs without prefix]\n",
    "    \n",
    "    >>> parse_xref(['MSH:D006954',  'SNOMEDCT_US_2016_03_01:190781009',  'SNOMEDCT_US_2016_03_01:34349009',  'UMLS_CUI:C0020481'])\n",
    "    {'MESH': ['D006954'],\n",
    "     'SNOMEDCT_US_2016_03_01': ['190781009', '34349009'],\n",
    "     'UMLS_CUI': ['C0020481']}\n",
    "    \n",
    "    \"\"\"\n",
    "    \n",
    "    xrefs = [x for x in xrefs if \":\" in x]\n",
    "    xrefs = [x.split(\":\",1)[0].lower() + \":\" + x.split(\":\",1)[1] for x in xrefs]\n",
    "    for n,xref in enumerate(xrefs):\n",
    "        if xref.startswith(\"msh:\"):\n",
    "            xrefs[n] = \"mesh:\" + xref.split(\":\",1)[1]\n",
    "        if xref.startswith(\"ordo:\"):\n",
    "            xrefs[n] = \"orphanet:\" + xref.split(\":\",1)[1]\n",
    "    return list2dict(xrefs)"
   ]
  },
  {
   "cell_type": "code",
   "execution_count": 3,
   "metadata": {
    "collapsed": false
   },
   "outputs": [],
   "source": [
    "graph = read_obo(open(\"/home/gstupp/projects/biothings/mydisease/mydisease/data/doid.obo\").readlines())\n",
    "d = graph_to_d(graph)\n",
    "\n",
    "for value in d.values():\n",
    "    if 'xref' in value:\n",
    "        value['xref'] = parse_xref(value['xref'])\n",
    "    if 'synonym' in value:\n",
    "        value['synonym'] = list(map(parse_synonym, value['synonym']))\n",
    "    if 'def' in value:\n",
    "        value['def'],ref = parse_def(value['def'])\n",
    "        if ref:\n",
    "            if 'xref' in value:\n",
    "                value['xref'].update(parse_xref(ref))\n",
    "            else:\n",
    "                value['xref'] = parse_xref(ref)"
   ]
  },
  {
   "cell_type": "code",
   "execution_count": 5,
   "metadata": {
    "collapsed": false
   },
   "outputs": [
    {
     "data": {
      "text/plain": [
       "{'_id': 'doid:1171',\n",
       " 'comment': 'OMIM mapping confirmed by DO. [SN].',\n",
       " 'is_a': ['doid:1168'],\n",
       " 'name': 'hyperlipoproteinemia type V',\n",
       " 'synonym': ['familial hyperlipoproteinemia type V',\n",
       "  'familial type 5 hyperlipoproteinemia (disorder)',\n",
       "  'Fredrickson type V lipaemia'],\n",
       " 'xref': {'mesh': ['D006954'],\n",
       "  'nci': ['C35645'],\n",
       "  'omim': ['144650'],\n",
       "  'snomedct_us_2016_03_01': ['190781009', '34349009'],\n",
       "  'umls_cui': ['C0020481']}}"
      ]
     },
     "execution_count": 5,
     "metadata": {},
     "output_type": "execute_result"
    }
   ],
   "source": [
    "d['doid:1171']"
   ]
  },
  {
   "cell_type": "code",
   "execution_count": 7,
   "metadata": {
    "collapsed": false
   },
   "outputs": [
    {
     "data": {
      "text/plain": [
       "[('umls_cui', 5776),\n",
       " ('snomedct_us_2016_03_01', 4188),\n",
       " ('nci', 4117),\n",
       " ('mesh', 2873),\n",
       " ('url', 2635),\n",
       " ('icd10cm', 2417),\n",
       " ('icd9cm', 2124),\n",
       " ('omim', 1433),\n",
       " ('orphanet', 471),\n",
       " ('efo', 131),\n",
       " ('pmid', 101),\n",
       " ('kegg', 39),\n",
       " ('csp', 37),\n",
       " ('ls', 35),\n",
       " ('hp', 31),\n",
       " ('nci2009_04d', 29),\n",
       " ('sn', 16),\n",
       " ('snomedct', 13),\n",
       " ('meddra', 11),\n",
       " ('efopat_id', 10),\n",
       " ('isbn', 8),\n",
       " ('ja', 7),\n",
       " ('icd10', 5),\n",
       " ('https', 5),\n",
       " ('pdf', 4),\n",
       " ('do', 4),\n",
       " ('ctv3', 3),\n",
       " ('snomedct_us_2015_03_01', 2),\n",
       " ('stedman', 2),\n",
       " ('omm', 2),\n",
       " ('http', 1),\n",
       " ('ndfrt', 1),\n",
       " ('utl', 1),\n",
       " ('dermo', 1),\n",
       " ('who', 1),\n",
       " ('url`', 1),\n",
       " ('umls', 1),\n",
       " ('ic10cm', 1),\n",
       " ('icd9', 1),\n",
       " ('nord', 1),\n",
       " ('mth', 1)]"
      ]
     },
     "execution_count": 7,
     "metadata": {},
     "output_type": "execute_result"
    }
   ],
   "source": [
    "from collections import Counter\n",
    "Counter(chain(*[x.get('xref',[]) for x in d.values()])).most_common(100)"
   ]
  },
  {
   "cell_type": "code",
   "execution_count": 8,
   "metadata": {
    "collapsed": false
   },
   "outputs": [
    {
     "data": {
      "text/plain": [
       "<pymongo.results.InsertManyResult at 0x7f637acda3a8>"
      ]
     },
     "execution_count": 8,
     "metadata": {},
     "output_type": "execute_result"
    }
   ],
   "source": [
    "db.drop()\n",
    "db.insert_many(d.values())"
   ]
  },
  {
   "cell_type": "code",
   "execution_count": 9,
   "metadata": {
    "collapsed": false
   },
   "outputs": [
    {
     "data": {
      "text/plain": [
       "{'_id': 'doid:1171',\n",
       " 'comment': 'OMIM mapping confirmed by DO. [SN].',\n",
       " 'is_a': ['doid:1168'],\n",
       " 'name': 'hyperlipoproteinemia type V',\n",
       " 'synonym': ['familial hyperlipoproteinemia type V',\n",
       "  'familial type 5 hyperlipoproteinemia (disorder)',\n",
       "  'Fredrickson type V lipaemia'],\n",
       " 'xref': {'mesh': ['D006954'],\n",
       "  'nci': ['C35645'],\n",
       "  'omim': ['144650'],\n",
       "  'snomedct_us_2016_03_01': ['190781009', '34349009'],\n",
       "  'umls_cui': ['C0020481']}}"
      ]
     },
     "execution_count": 9,
     "metadata": {},
     "output_type": "execute_result"
    }
   ],
   "source": [
    "db.find_one('doid:1171')"
   ]
  },
  {
   "cell_type": "code",
   "execution_count": 10,
   "metadata": {
    "collapsed": false
   },
   "outputs": [
    {
     "data": {
      "text/plain": [
       "Counter({0: 4380, 1: 2417})"
      ]
     },
     "execution_count": 10,
     "metadata": {},
     "output_type": "execute_result"
    }
   ],
   "source": [
    "# how many ICD10CM xrefs does each DO item have?\n",
    "xrefs = list(db.find({'xref':{'$exists': True}},{'xref':1}))\n",
    "Counter([[y.split(\":\")[0] for y in x['xref']].count(\"icd10cm\") for x in xrefs])"
   ]
  },
  {
   "cell_type": "code",
   "execution_count": 11,
   "metadata": {
    "collapsed": false
   },
   "outputs": [],
   "source": [
    "jsonld = {\"doid\": {\n",
    "            \"@context\": {\n",
    "                \"is_a\": \"https://www.w3.org/2000/01/rdf-schema#subClassOf\",\n",
    "                \"name\": \"http://www.w3.org/2000/01/rdf-schema#label\",\n",
    "                \"synonym\": \"http://www.geneontology.org/formats/oboInOwl#hasExactSynonym\",\n",
    "                \"xref\": \"http://www.geneontology.org/formats/oboInOwl#hasDbXref\"\n",
    "                }\n",
    "            },\n",
    "          \"doid/xref\": {\n",
    "                \"@context\": {\n",
    "                    \"mesh\": \"http://identifers.org/mesh/\",\n",
    "                    \"orphanet\": \"http://identifiers.org/orphanet.ordo/\",\n",
    "                    \"umls_cui\": \"http://identifiers.org/umls/\",\n",
    "                    \"snomedct_us_2016_03_01\": \"http://identifiers.org/snomedct/\",\n",
    "                    \"nci\": \"\",\n",
    "                    \"icd10cm\": \"http://identifiers.org/icd/\",\n",
    "                    \"icd9cm\": \"\",\n",
    "                    \"omim\": \"http://identifiers.org/omim/\",\n",
    "                    \"efo\": \"http://identifiers.org/efo/\",\n",
    "                    \"kegg\": \"http://identifiers.org/kegg.disease/\",\n",
    "                    \"url\": \"\"\n",
    "                }\n",
    "            }\n",
    "          }"
   ]
  },
  {
   "cell_type": "code",
   "execution_count": 12,
   "metadata": {
    "collapsed": false
   },
   "outputs": [
    {
     "data": {
      "text/plain": [
       "{'doid': {'@context': {'is_a': 'https://www.w3.org/2000/01/rdf-schema#subClassOf',\n",
       "   'name': 'http://www.w3.org/2000/01/rdf-schema#label',\n",
       "   'synonym': 'http://www.geneontology.org/formats/oboInOwl#hasExactSynonym',\n",
       "   'xref': 'http://www.geneontology.org/formats/oboInOwl#hasDbXref'}},\n",
       " 'doid/xref': {'@context': {'efo': 'http://identifiers.org/efo/',\n",
       "   'icd10cm': 'http://identifiers.org/icd/',\n",
       "   'icd9cm': '',\n",
       "   'kegg': 'http://identifiers.org/kegg.disease/',\n",
       "   'mesh': 'http://identifers.org/mesh/',\n",
       "   'nci': '',\n",
       "   'omim': 'http://identifiers.org/omim/',\n",
       "   'orphanet': 'http://identifiers.org/orphanet.ordo/',\n",
       "   'snomedct_us_2016_03_01': 'http://identifiers.org/snomedct/',\n",
       "   'umls_cui': 'http://identifiers.org/umls/',\n",
       "   'url': ''}}}"
      ]
     },
     "execution_count": 12,
     "metadata": {},
     "output_type": "execute_result"
    }
   ],
   "source": [
    "jsonld"
   ]
  },
  {
   "cell_type": "code",
   "execution_count": null,
   "metadata": {
    "collapsed": true
   },
   "outputs": [],
   "source": []
  }
 ],
 "metadata": {
  "kernelspec": {
   "display_name": "Python 3",
   "language": "python",
   "name": "python3"
  },
  "language_info": {
   "codemirror_mode": {
    "name": "ipython",
    "version": 3
   },
   "file_extension": ".py",
   "mimetype": "text/x-python",
   "name": "python",
   "nbconvert_exporter": "python",
   "pygments_lexer": "ipython3",
   "version": "3.4.2"
  }
 },
 "nbformat": 4,
 "nbformat_minor": 0
}
