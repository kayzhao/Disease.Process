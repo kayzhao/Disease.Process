{
 "cells": [
  {
   "cell_type": "code",
   "execution_count": 1,
   "metadata": {
    "collapsed": true
   },
   "outputs": [],
   "source": [
    "from pymongo import MongoClient\n",
    "client = MongoClient()\n",
    "db = client.mydisease.ctdbase\n",
    "db.drop()"
   ]
  },
  {
   "cell_type": "code",
   "execution_count": 2,
   "metadata": {
    "collapsed": true
   },
   "outputs": [],
   "source": [
    "import gzip\n",
    "import json\n",
    "import os\n",
    "from collections import defaultdict\n",
    "from tqdm import tqdm\n",
    "import pandas as pd\n",
    "\n",
    "from mydisease import DATA_DIR\n",
    "from mydisease.dataload.ctdbase.download_raw_data import relationships\n",
    "pd.set_option('display.width', 1000)"
   ]
  },
  {
   "cell_type": "code",
   "execution_count": 3,
   "metadata": {
    "collapsed": true
   },
   "outputs": [],
   "source": [
    "def parse_diseaseid(did: str):\n",
    "    \"\"\" \n",
    "    The 'DiseaseID' column sometimes starts with the identifier prefix, and sometime doesnt\n",
    "    prefixes are {'MESH:','OMIM:'}\n",
    "    if an ID starts with 'C' or 'D', its MESH, if its an integer: 'OMIM'\n",
    "    \"\"\"\n",
    "    if did.startswith(\"OMIM:\") or did.startswith(\"MESH:\"):\n",
    "        return did.split(\":\",1)[0].lower() + \":\" + did.split(\":\",1)[1]\n",
    "    if did.startswith('C') or did.startswith('D'):\n",
    "        return 'mesh:' + did\n",
    "    if did.isdigit():\n",
    "        return \"omim:\" + did\n",
    "    raise ValueError(did)\n",
    "    return did"
   ]
  },
  {
   "cell_type": "code",
   "execution_count": 4,
   "metadata": {
    "collapsed": true
   },
   "outputs": [],
   "source": [
    "def parse_csv_to_df(f):\n",
    "    line = next(f)\n",
    "    while not line.startswith(\"# Fields:\"):\n",
    "        line = next(f)\n",
    "    # parse the column headers from the comments\n",
    "    fields = next(f)[1:].strip().split(\",\")\n",
    "    df = pd.read_csv(f, delimiter=\",\", comment=\"#\")\n",
    "    df.columns = fields\n",
    "\n",
    "    # split pipe-delimited fields\n",
    "    fields_split = set(['DirectEvidence', 'OmimIDs', 'PubMedIDs', 'InferenceGeneSymbols']) & set(fields)\n",
    "    for field in fields_split:\n",
    "        # don't split NaN\n",
    "        field_split = df[field].dropna().astype(str).str.split(\"|\")\n",
    "        df[field][field_split.index] = field_split\n",
    "\n",
    "    df['DiseaseID'] = df['DiseaseID'].map(parse_diseaseid)\n",
    "    return df"
   ]
  },
  {
   "cell_type": "code",
   "execution_count": 5,
   "metadata": {
    "collapsed": true
   },
   "outputs": [],
   "source": [
    "def get_columns_to_keep(relationship):\n",
    "    if relationship in {'GO_BP', 'GO_CC', 'GO_MF'}:\n",
    "        columns_keep = ['GOID','InferenceGeneSymbols']\n",
    "    elif relationship == \"pathways\":\n",
    "        columns_keep = ['PathwayID','InferenceGeneSymbol']\n",
    "    elif relationship == \"chemicals\":\n",
    "        columns_keep = ['CasRN','ChemicalID','DirectEvidence','InferenceGeneSymbol','InferenceScore','OmimIDs','PubMedIDs']\n",
    "    elif relationship == \"genes\":\n",
    "        columns_keep = ['GeneID','DirectEvidence','InferenceScore','InferenceChemicalName','OmimIDs','PubMedIDs']\n",
    "    return columns_keep"
   ]
  },
  {
   "cell_type": "code",
   "execution_count": 6,
   "metadata": {
    "collapsed": true
   },
   "outputs": [],
   "source": [
    "def parse_df(db, df, relationship):\n",
    "    \"\"\"\n",
    "    df is parsed and added to mongodb (db)\n",
    "    \"\"\"\n",
    "    columns_keep = get_columns_to_keep(relationship)\n",
    "    total = len(set(df.DiseaseID))\n",
    "    for diseaseID, subdf in tqdm(df.groupby(\"DiseaseID\"), total=total):\n",
    "        sub = subdf[columns_keep].to_dict(orient=\"records\")\n",
    "        sub = [{k:v for k,v in s.items() if v==v} for s in sub] # get rid of nulls\n",
    "        db.update_one({'_id':diseaseID}, {'$set':{relationship: sub}}, upsert=True)"
   ]
  },
  {
   "cell_type": "code",
   "execution_count": 7,
   "metadata": {
    "collapsed": true
   },
   "outputs": [],
   "source": [
    "def process_genes(db, f):\n",
    "    \"\"\"\n",
    "    # for the genes file, which is enormous, we need to do something different\n",
    "    # basically same as others, but in chunks\n",
    "    d is modified in place!!\n",
    "    \n",
    "    note: this will fail\n",
    "    WriteError: Resulting document after update is larger than 16777216\n",
    "\n",
    "    \"\"\"\n",
    "    chunksize = 100000\n",
    "    names = ['GeneSymbol', 'GeneID', 'DiseaseName', 'DiseaseID', 'DirectEvidence',\n",
    "             'InferenceChemicalName', 'InferenceScore', 'OmimIDs', 'PubMedIDs']\n",
    "    for df in tqdm(pd.read_csv(f, delimiter=\",\", comment=\"#\", header=None, chunksize=chunksize, \n",
    "                          low_memory=False, names=names), total = 49867785/chunksize):\n",
    "        fields_split = ['DirectEvidence', 'OmimIDs', 'PubMedIDs']\n",
    "        for field in fields_split:\n",
    "            field_split = df[field].dropna().astype(str).str.split(\"|\")\n",
    "            df[field][field_split.index] = field_split\n",
    "        columns_keep = get_columns_to_keep('genes')\n",
    "        df['DiseaseID'] = df['DiseaseID'].map(parse_diseaseid)\n",
    "        for diseaseID, subdf in df.groupby(\"DiseaseID\"):\n",
    "            sub = subdf[columns_keep].to_dict(orient=\"records\")\n",
    "            # get rid of nulls\n",
    "            sub = [{k:v for k,v in s.items() if v==v} for s in sub]\n",
    "            db.update_one({'_id':diseaseID}, {'$push':{relationship: {'$each': sub}}}, upsert=True)"
   ]
  },
  {
   "cell_type": "code",
   "execution_count": 8,
   "metadata": {
    "collapsed": false,
    "scrolled": true
   },
   "outputs": [
    {
     "name": "stdout",
     "output_type": "stream",
     "text": [
      "pathways\n"
     ]
    },
    {
     "name": "stderr",
     "output_type": "stream",
     "text": [
      "100%|██████████| 3556/3556 [00:05<00:00, 685.10it/s]\n"
     ]
    },
    {
     "name": "stdout",
     "output_type": "stream",
     "text": [
      "GO_BP\n"
     ]
    },
    {
     "name": "stderr",
     "output_type": "stream",
     "text": [
      "/usr/local/lib/python3.5/dist-packages/ipykernel/__main__.py:15: SettingWithCopyWarning: \n",
      "A value is trying to be set on a copy of a slice from a DataFrame\n",
      "\n",
      "See the caveats in the documentation: http://pandas.pydata.org/pandas-docs/stable/indexing.html#indexing-view-versus-copy\n",
      "100%|██████████| 4298/4298 [00:15<00:00, 272.25it/s]\n"
     ]
    },
    {
     "name": "stdout",
     "output_type": "stream",
     "text": [
      "GO_MF\n"
     ]
    },
    {
     "name": "stderr",
     "output_type": "stream",
     "text": [
      "100%|██████████| 4281/4281 [00:09<00:00, 439.85it/s]\n"
     ]
    },
    {
     "name": "stdout",
     "output_type": "stream",
     "text": [
      "GO_CC\n"
     ]
    },
    {
     "name": "stderr",
     "output_type": "stream",
     "text": [
      "100%|██████████| 4297/4297 [00:07<00:00, 596.64it/s]\n"
     ]
    },
    {
     "name": "stdout",
     "output_type": "stream",
     "text": [
      "genes\n",
      "skipping genes\n",
      "chemicals\n"
     ]
    },
    {
     "name": "stderr",
     "output_type": "stream",
     "text": [
      "100%|██████████| 5735/5735 [02:12<00:00, 43.23it/s] \n"
     ]
    }
   ],
   "source": [
    "for relationship, file_path in relationships.items():\n",
    "    print(relationship)\n",
    "    with gzip.open(os.path.join(DATA_DIR, file_path), 'rt', encoding='utf-8') as f:\n",
    "        if relationship == \"genes\":\n",
    "            #process_genes(db, f)\n",
    "            print(\"skipping genes\")\n",
    "            pass\n",
    "        else:\n",
    "            df = parse_csv_to_df(f)\n",
    "            parse_df(db, df, relationship)"
   ]
  },
  {
   "cell_type": "code",
   "execution_count": 9,
   "metadata": {
    "collapsed": false
   },
   "outputs": [
    {
     "data": {
      "text/plain": [
       "5749"
      ]
     },
     "execution_count": 9,
     "metadata": {},
     "output_type": "execute_result"
    }
   ],
   "source": [
    "db.count()"
   ]
  },
  {
   "cell_type": "code",
   "execution_count": 13,
   "metadata": {
    "collapsed": false
   },
   "outputs": [],
   "source": [
    "doc = db.find_one({'genes':{'$exists':True}})\n",
    "doc"
   ]
  },
  {
   "cell_type": "code",
   "execution_count": 14,
   "metadata": {
    "collapsed": false
   },
   "outputs": [
    {
     "data": {
      "text/plain": [
       "Counter({'mesh:C': 2040,\n",
       "         'mesh:D': 3327,\n",
       "         'omim:1': 70,\n",
       "         'omim:2': 62,\n",
       "         'omim:3': 27,\n",
       "         'omim:4': 2,\n",
       "         'omim:6': 221})"
      ]
     },
     "execution_count": 14,
     "metadata": {},
     "output_type": "execute_result"
    }
   ],
   "source": [
    "from collections import Counter\n",
    "Counter([x['_id'][:6] for x in db.find({},{'_id':1})])"
   ]
  },
  {
   "cell_type": "code",
   "execution_count": 16,
   "metadata": {
    "collapsed": false,
    "scrolled": false
   },
   "outputs": [
    {
     "data": {
      "text/plain": [
       "{'GO_BP': [{'GOID': 'GO:0055090', 'InferenceGeneSymbols': ['APOA5']},\n",
       "  {'GOID': 'GO:0042632', 'InferenceGeneSymbols': ['APOA5']},\n",
       "  {'GOID': 'GO:0006869', 'InferenceGeneSymbols': ['APOA5']},\n",
       "  {'GOID': 'GO:0042157', 'InferenceGeneSymbols': ['APOA5']},\n",
       "  {'GOID': 'GO:0031100', 'InferenceGeneSymbols': ['APOA5']},\n",
       "  {'GOID': 'GO:0045723', 'InferenceGeneSymbols': ['APOA5']},\n",
       "  {'GOID': 'GO:0050996', 'InferenceGeneSymbols': ['APOA5']},\n",
       "  {'GOID': 'GO:0051006', 'InferenceGeneSymbols': ['APOA5']},\n",
       "  {'GOID': 'GO:0048260', 'InferenceGeneSymbols': ['APOA5']},\n",
       "  {'GOID': 'GO:0010898', 'InferenceGeneSymbols': ['APOA5']},\n",
       "  {'GOID': 'GO:0010902', 'InferenceGeneSymbols': ['APOA5']},\n",
       "  {'GOID': 'GO:0009725', 'InferenceGeneSymbols': ['APOA5']},\n",
       "  {'GOID': 'GO:0042246', 'InferenceGeneSymbols': ['APOA5']},\n",
       "  {'GOID': 'GO:0006810', 'InferenceGeneSymbols': ['APOA5']},\n",
       "  {'GOID': 'GO:0019433', 'InferenceGeneSymbols': ['APOA5']},\n",
       "  {'GOID': 'GO:0070328', 'InferenceGeneSymbols': ['APOA5']},\n",
       "  {'GOID': 'GO:0006641', 'InferenceGeneSymbols': ['APOA5']},\n",
       "  {'GOID': 'GO:0034370', 'InferenceGeneSymbols': ['APOA5']}],\n",
       " 'GO_CC': [{'GOID': 'GO:0042627', 'InferenceGeneSymbols': ['APOA5']},\n",
       "  {'GOID': 'GO:0005576', 'InferenceGeneSymbols': ['APOA5']},\n",
       "  {'GOID': 'GO:0005615', 'InferenceGeneSymbols': ['APOA5']},\n",
       "  {'GOID': 'GO:0034364', 'InferenceGeneSymbols': ['APOA5']},\n",
       "  {'GOID': 'GO:0016021', 'InferenceGeneSymbols': ['APOA5']},\n",
       "  {'GOID': 'GO:0034361', 'InferenceGeneSymbols': ['APOA5']}],\n",
       " 'GO_MF': [{'GOID': 'GO:0008047', 'InferenceGeneSymbols': ['APOA5']},\n",
       "  {'GOID': 'GO:0019899', 'InferenceGeneSymbols': ['APOA5']},\n",
       "  {'GOID': 'GO:0008201', 'InferenceGeneSymbols': ['APOA5']},\n",
       "  {'GOID': 'GO:0060229', 'InferenceGeneSymbols': ['APOA5']},\n",
       "  {'GOID': 'GO:0035473', 'InferenceGeneSymbols': ['APOA5']},\n",
       "  {'GOID': 'GO:0008289', 'InferenceGeneSymbols': ['APOA5']},\n",
       "  {'GOID': 'GO:0060230', 'InferenceGeneSymbols': ['APOA5']},\n",
       "  {'GOID': 'GO:0070325', 'InferenceGeneSymbols': ['APOA5']},\n",
       "  {'GOID': 'GO:0050750', 'InferenceGeneSymbols': ['APOA5']},\n",
       "  {'GOID': 'GO:0003674', 'InferenceGeneSymbols': ['APOA5']},\n",
       "  {'GOID': 'GO:0031210', 'InferenceGeneSymbols': ['APOA5']},\n",
       "  {'GOID': 'GO:0005543', 'InferenceGeneSymbols': ['APOA5']}],\n",
       " '_id': 'mesh:D006954',\n",
       " 'chemicals': [{'ChemicalID': 'C111118',\n",
       "   'InferenceGeneSymbol': 'APOA5',\n",
       "   'InferenceScore': 4.16,\n",
       "   'OmimIDs': ['144650']},\n",
       "  {'CasRN': '32598-13-3',\n",
       "   'ChemicalID': 'C028451',\n",
       "   'InferenceGeneSymbol': 'APOA5',\n",
       "   'InferenceScore': 4.92,\n",
       "   'OmimIDs': ['144650']},\n",
       "  {'CasRN': '103-90-2',\n",
       "   'ChemicalID': 'D000082',\n",
       "   'InferenceGeneSymbol': 'APOA5',\n",
       "   'InferenceScore': 3.59,\n",
       "   'OmimIDs': ['144650']},\n",
       "  {'CasRN': '1162-65-8',\n",
       "   'ChemicalID': 'D016604',\n",
       "   'InferenceGeneSymbol': 'APOA5',\n",
       "   'InferenceScore': 3.8,\n",
       "   'OmimIDs': ['144650']},\n",
       "  {'CasRN': '1951-25-3',\n",
       "   'ChemicalID': 'D000638',\n",
       "   'InferenceGeneSymbol': 'APOA5',\n",
       "   'InferenceScore': 4.27,\n",
       "   'OmimIDs': ['144650']},\n",
       "  {'CasRN': '12125-02-9',\n",
       "   'ChemicalID': 'D000643',\n",
       "   'InferenceGeneSymbol': 'APOA5',\n",
       "   'InferenceScore': 3.84,\n",
       "   'OmimIDs': ['144650']},\n",
       "  {'CasRN': '6051-87-2',\n",
       "   'ChemicalID': 'D019324',\n",
       "   'InferenceGeneSymbol': 'APOA5',\n",
       "   'InferenceScore': 4.62,\n",
       "   'OmimIDs': ['144650']},\n",
       "  {'CasRN': '50-32-8',\n",
       "   'ChemicalID': 'D001564',\n",
       "   'InferenceGeneSymbol': 'APOA5',\n",
       "   'InferenceScore': 3.55,\n",
       "   'OmimIDs': ['144650']},\n",
       "  {'CasRN': '50-28-2',\n",
       "   'ChemicalID': 'D004958',\n",
       "   'InferenceGeneSymbol': 'APOA5',\n",
       "   'InferenceScore': 3.73,\n",
       "   'OmimIDs': ['144650']},\n",
       "  {'CasRN': '319-85-7',\n",
       "   'ChemicalID': 'C023888',\n",
       "   'InferenceGeneSymbol': 'APOA5',\n",
       "   'InferenceScore': 5.61,\n",
       "   'OmimIDs': ['144650']},\n",
       "  {'CasRN': '41859-67-0',\n",
       "   'ChemicalID': 'D001629',\n",
       "   'DirectEvidence': ['therapeutic'],\n",
       "   'PubMedIDs': ['906593']},\n",
       "  {'CasRN': '80-05-7',\n",
       "   'ChemicalID': 'C006780',\n",
       "   'InferenceGeneSymbol': 'APOA5',\n",
       "   'InferenceScore': 3.45,\n",
       "   'OmimIDs': ['144650']},\n",
       "  {'CasRN': '75-91-2',\n",
       "   'ChemicalID': 'D020122',\n",
       "   'InferenceGeneSymbol': 'APOA5',\n",
       "   'InferenceScore': 4.26,\n",
       "   'OmimIDs': ['144650']},\n",
       "  {'CasRN': '11097-69-1',\n",
       "   'ChemicalID': 'D020111',\n",
       "   'InferenceGeneSymbol': 'APOA5',\n",
       "   'InferenceScore': 4.31,\n",
       "   'OmimIDs': ['144650']},\n",
       "  {'CasRN': '637-07-0',\n",
       "   'ChemicalID': 'D002994',\n",
       "   'InferenceGeneSymbol': 'APOA5',\n",
       "   'InferenceScore': 4.05,\n",
       "   'OmimIDs': ['144650']},\n",
       "  {'CasRN': '5786-21-0',\n",
       "   'ChemicalID': 'D003024',\n",
       "   'InferenceGeneSymbol': 'APOA5',\n",
       "   'InferenceScore': 4.84,\n",
       "   'OmimIDs': ['144650']},\n",
       "  {'CasRN': '7646-79-9',\n",
       "   'ChemicalID': 'C018021',\n",
       "   'InferenceGeneSymbol': 'APOA5',\n",
       "   'InferenceScore': 3.88,\n",
       "   'OmimIDs': ['144650']},\n",
       "  {'CasRN': '7758-98-7',\n",
       "   'ChemicalID': 'D019327',\n",
       "   'InferenceGeneSymbol': 'APOA5',\n",
       "   'InferenceScore': 3.74,\n",
       "   'OmimIDs': ['144650']},\n",
       "  {'CasRN': '59865-13-3',\n",
       "   'ChemicalID': 'D016572',\n",
       "   'InferenceGeneSymbol': 'APOA5',\n",
       "   'InferenceScore': 3.65,\n",
       "   'OmimIDs': ['144650']},\n",
       "  {'ChemicalID': 'D004041',\n",
       "   'InferenceGeneSymbol': 'APOA5',\n",
       "   'InferenceScore': 3.83,\n",
       "   'OmimIDs': ['144650']},\n",
       "  {'CasRN': '117-81-7',\n",
       "   'ChemicalID': 'D004051',\n",
       "   'InferenceGeneSymbol': 'APOA5',\n",
       "   'InferenceScore': 4.43,\n",
       "   'OmimIDs': ['144650']},\n",
       "  {'CasRN': '57-63-6',\n",
       "   'ChemicalID': 'D004997',\n",
       "   'InferenceGeneSymbol': 'APOA5',\n",
       "   'InferenceScore': 3.77,\n",
       "   'OmimIDs': ['144650']},\n",
       "  {'ChemicalID': 'D058607',\n",
       "   'InferenceGeneSymbol': 'APOA5',\n",
       "   'InferenceScore': 6.27,\n",
       "   'OmimIDs': ['144650']},\n",
       "  {'CasRN': '13311-84-7',\n",
       "   'ChemicalID': 'D005485',\n",
       "   'InferenceGeneSymbol': 'APOA5',\n",
       "   'InferenceScore': 3.94,\n",
       "   'OmimIDs': ['144650']},\n",
       "  {'CasRN': '99685-96-8',\n",
       "   'ChemicalID': 'C069837',\n",
       "   'InferenceGeneSymbol': 'APOA5',\n",
       "   'InferenceScore': 4.34,\n",
       "   'OmimIDs': ['144650']},\n",
       "  {'CasRN': '110-00-9',\n",
       "   'ChemicalID': 'C039281',\n",
       "   'InferenceGeneSymbol': 'APOA5',\n",
       "   'InferenceScore': 4.07,\n",
       "   'OmimIDs': ['144650']},\n",
       "  {'CasRN': '556-52-5',\n",
       "   'ChemicalID': 'C004312',\n",
       "   'InferenceGeneSymbol': 'APOA5',\n",
       "   'InferenceScore': 4.91,\n",
       "   'OmimIDs': ['144650']},\n",
       "  {'CasRN': '302-01-2',\n",
       "   'ChemicalID': 'C029424',\n",
       "   'InferenceGeneSymbol': 'APOA5',\n",
       "   'InferenceScore': 5.37,\n",
       "   'OmimIDs': ['144650']},\n",
       "  {'CasRN': '7722-84-1',\n",
       "   'ChemicalID': 'D006861',\n",
       "   'InferenceGeneSymbol': 'APOA5',\n",
       "   'InferenceScore': 3.97,\n",
       "   'OmimIDs': ['144650']},\n",
       "  {'ChemicalID': 'C482199',\n",
       "   'InferenceGeneSymbol': 'APOA5',\n",
       "   'InferenceScore': 4.31,\n",
       "   'OmimIDs': ['144650']},\n",
       "  {'CasRN': '83366-66-9',\n",
       "   'ChemicalID': 'C051752',\n",
       "   'InferenceGeneSymbol': 'APOA5',\n",
       "   'InferenceScore': 4.34,\n",
       "   'OmimIDs': ['144650']},\n",
       "  {'ChemicalID': 'D009525',\n",
       "   'DirectEvidence': ['therapeutic'],\n",
       "   'PubMedIDs': ['906593']},\n",
       "  {'CasRN': '1313-99-1',\n",
       "   'ChemicalID': 'C028007',\n",
       "   'InferenceGeneSymbol': 'APOA5',\n",
       "   'InferenceScore': 4.19,\n",
       "   'OmimIDs': ['144650']},\n",
       "  {'CasRN': '51803-78-2',\n",
       "   'ChemicalID': 'C012655',\n",
       "   'InferenceGeneSymbol': 'APOA5',\n",
       "   'InferenceScore': 4.45,\n",
       "   'OmimIDs': ['144650']},\n",
       "  {'ChemicalID': 'C539348',\n",
       "   'InferenceGeneSymbol': 'APOA5',\n",
       "   'InferenceScore': 6.56,\n",
       "   'OmimIDs': ['144650']},\n",
       "  {'CasRN': '355-46-4',\n",
       "   'ChemicalID': 'C471071',\n",
       "   'InferenceGeneSymbol': 'APOA5',\n",
       "   'InferenceScore': 5.56,\n",
       "   'OmimIDs': ['144650']},\n",
       "  {'ChemicalID': 'C479228',\n",
       "   'InferenceGeneSymbol': 'APOA5',\n",
       "   'InferenceScore': 6.15,\n",
       "   'OmimIDs': ['144650']},\n",
       "  {'CasRN': '375-85-9',\n",
       "   'ChemicalID': 'C101815',\n",
       "   'InferenceGeneSymbol': 'APOA5',\n",
       "   'InferenceScore': 6.21,\n",
       "   'OmimIDs': ['144650']},\n",
       "  {'CasRN': '375-95-1',\n",
       "   'ChemicalID': 'C101816',\n",
       "   'InferenceGeneSymbol': 'APOA5',\n",
       "   'InferenceScore': 5.52,\n",
       "   'OmimIDs': ['144650']},\n",
       "  {'CasRN': '1763-23-1',\n",
       "   'ChemicalID': 'C076994',\n",
       "   'InferenceGeneSymbol': 'APOA5',\n",
       "   'InferenceScore': 4.52,\n",
       "   'OmimIDs': ['144650']},\n",
       "  {'CasRN': '335-67-1',\n",
       "   'ChemicalID': 'C023036',\n",
       "   'InferenceGeneSymbol': 'APOA5',\n",
       "   'InferenceScore': 4.28,\n",
       "   'OmimIDs': ['144650']},\n",
       "  {'CasRN': '50-06-6',\n",
       "   'ChemicalID': 'D010634',\n",
       "   'InferenceGeneSymbol': 'APOA5',\n",
       "   'InferenceScore': 3.86,\n",
       "   'OmimIDs': ['144650']},\n",
       "  {'CasRN': '50892-23-4',\n",
       "   'ChemicalID': 'C006253',\n",
       "   'InferenceGeneSymbol': 'APOA5',\n",
       "   'InferenceScore': 3.68,\n",
       "   'OmimIDs': ['144650']},\n",
       "  {'CasRN': '7778-50-9',\n",
       "   'ChemicalID': 'D011192',\n",
       "   'InferenceGeneSymbol': 'APOA5',\n",
       "   'InferenceScore': 4.19,\n",
       "   'OmimIDs': ['144650']},\n",
       "  {'CasRN': '60207-90-1',\n",
       "   'ChemicalID': 'C045950',\n",
       "   'InferenceGeneSymbol': 'APOA5',\n",
       "   'InferenceScore': 4.32,\n",
       "   'OmimIDs': ['144650']},\n",
       "  {'ChemicalID': 'D054328',\n",
       "   'InferenceGeneSymbol': 'APOA5',\n",
       "   'InferenceScore': 5.54,\n",
       "   'OmimIDs': ['144650']},\n",
       "  {'CasRN': '117-39-5',\n",
       "   'ChemicalID': 'D011794',\n",
       "   'InferenceGeneSymbol': 'APOA5',\n",
       "   'InferenceScore': 4.0,\n",
       "   'OmimIDs': ['144650']},\n",
       "  {'ChemicalID': 'C089730',\n",
       "   'InferenceGeneSymbol': 'APOA5',\n",
       "   'InferenceScore': 4.33,\n",
       "   'OmimIDs': ['144650']},\n",
       "  {'ChemicalID': 'C501413',\n",
       "   'InferenceGeneSymbol': 'APOA5',\n",
       "   'InferenceScore': 4.88,\n",
       "   'OmimIDs': ['144650']},\n",
       "  {'CasRN': '1746-01-6',\n",
       "   'ChemicalID': 'D013749',\n",
       "   'InferenceGeneSymbol': 'APOA5',\n",
       "   'InferenceScore': 3.49,\n",
       "   'OmimIDs': ['144650']},\n",
       "  {'ChemicalID': 'D014280',\n",
       "   'InferenceGeneSymbol': 'APOA5',\n",
       "   'InferenceScore': 5.77,\n",
       "   'OmimIDs': ['144650']},\n",
       "  {'CasRN': '97322-87-7',\n",
       "   'ChemicalID': 'C057693',\n",
       "   'InferenceGeneSymbol': 'APOA5',\n",
       "   'InferenceScore': 4.41,\n",
       "   'OmimIDs': ['144650']},\n",
       "  {'CasRN': '146836-84-2',\n",
       "   'ChemicalID': 'C080163',\n",
       "   'InferenceGeneSymbol': 'APOA5',\n",
       "   'InferenceScore': 5.03,\n",
       "   'OmimIDs': ['144650']},\n",
       "  {'CasRN': '58-27-5',\n",
       "   'ChemicalID': 'D024483',\n",
       "   'InferenceGeneSymbol': 'APOA5',\n",
       "   'InferenceScore': 4.4,\n",
       "   'OmimIDs': ['144650']}],\n",
       " 'pathways': [{'InferenceGeneSymbol': 'APOA5', 'PathwayID': 'REACT:111217'},\n",
       "  {'InferenceGeneSymbol': 'APOA5', 'PathwayID': 'KEGG:03320'}]}"
      ]
     },
     "execution_count": 16,
     "metadata": {},
     "output_type": "execute_result"
    }
   ],
   "source": [
    "db.find_one('mesh:D006954')"
   ]
  },
  {
   "cell_type": "code",
   "execution_count": null,
   "metadata": {
    "collapsed": true
   },
   "outputs": [],
   "source": []
  }
 ],
 "metadata": {
  "kernelspec": {
   "display_name": "Python 3",
   "language": "python",
   "name": "python3"
  },
  "language_info": {
   "codemirror_mode": {
    "name": "ipython",
    "version": 3
   },
   "file_extension": ".py",
   "mimetype": "text/x-python",
   "name": "python",
   "nbconvert_exporter": "python",
   "pygments_lexer": "ipython3",
   "version": "3.4.2"
  }
 },
 "nbformat": 4,
 "nbformat_minor": 0
}
