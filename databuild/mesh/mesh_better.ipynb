{
 "cells": [
  {
   "cell_type": "code",
   "execution_count": 32,
   "metadata": {
    "collapsed": false
   },
   "outputs": [],
   "source": [
    "import hashlib\n",
    "import json\n",
    "import xml.etree.ElementTree as et\n",
    "import gzip\n",
    "import os\n",
    "import pandas as pd\n",
    "import io\n",
    "import xml.etree.ElementTree as ET\n",
    "import sys\n",
    "import getopt\n",
    "import locale\n",
    "import time\n",
    "from collections import defaultdict\n",
    "from itertools import groupby, filterfalse\n",
    "from collections import Counter\n",
    "\n",
    "import networkx"
   ]
  },
  {
   "cell_type": "code",
   "execution_count": 33,
   "metadata": {
    "collapsed": false
   },
   "outputs": [],
   "source": [
    "\"\"\"\n",
    "Only updated once a year.\n",
    "https://www.nlm.nih.gov/mesh/download_mesh.html\n",
    "\n",
    "Descriptor Records: ftp://nlmpubs.nlm.nih.gov/online/mesh/MESH_FILES/asciimesh/d2016.bin\n",
    "Qualifier Records: ftp://nlmpubs.nlm.nih.gov/online/mesh/MESH_FILES/asciimesh/q2016.bin\n",
    "Supplemental Records: ftp://nlmpubs.nlm.nih.gov/online/mesh/MESH_FILES/asciimesh/c2016.bin\n",
    "\"\"\"\n",
    "DATA_DIR = \"/home/gstupp/projects/biothings/mydisease/mydisease/data\"\n",
    "mesh_desc_path = os.path.join(DATA_DIR, \"d2016.bin\")\n",
    "mesh_supp_path = os.path.join(DATA_DIR, \"c2016.bin\")"
   ]
  },
  {
   "cell_type": "markdown",
   "metadata": {},
   "source": [
    "## Parse a Descriptor Record\n",
    "### all attributes listed here: https://www.nlm.nih.gov/mesh/dtype.html\n",
    "\n",
    "Example record:"
   ]
  },
  {
   "cell_type": "code",
   "execution_count": 34,
   "metadata": {
    "collapsed": true
   },
   "outputs": [],
   "source": [
    "record = \"\"\"*NEWRECORD\n",
    "RECTYPE = D\n",
    "MH = Brain Diseases, Metabolic, Inborn\n",
    "DE = BRAIN DIS METAB INBORN\n",
    "AQ = BL CF CI CL CO DH DI DT EC EH EM EN EP ET GE HI IM ME MI MO NU PA PC PP PS PX RA RH RI RT SU TH UR US VE VI\n",
    "PRINT ENTRY = Central Nervous System Inborn Metabolic Diseases|T047|NON|BRD|NLM (2000)|991012|CNS INBORN METAB DIS|abcdefv\n",
    "PRINT ENTRY = Familial Metabolic Brain Diseases|T047|NON|NRW|NLM (2000)|991012|FAMILIAL METAB BRAIN DIS|abcdefv\n",
    "ENTRY = Brain Diseases, Metabolic, Familial|T047|NON|NRW|NLM (2000)|991012|BRAIN DIS METAB FAMILIAL|abcdefv\n",
    "ENTRY = Brain Diseases, Metabolic, Inherited|T047|NON|NRW|NLM (2000)|991012|BRAIN DIS METAB INHERITED|abcdefv\n",
    "MN = C10.228.140.163.100\n",
    "MN = C16.320.565.189\n",
    "MN = C18.452.132.100\n",
    "MN = C18.452.648.189\n",
    "FX = Intellectual Disability\n",
    "MH_TH = NLM (2000)\n",
    "ST = T047\n",
    "AN = General, prefer specifics; DF: BRAIN DIS METAB INBORN\n",
    "PI = Brain/metabolism (1968-1999)\n",
    "PI = Hereditary Diseases (1968-1999)\n",
    "MS = Brain disorders resulting from inborn metabolic errors, primarily from enzymatic defects which lead to substrate accumulation, product reduction, or increase in toxic metabolites through alternate pathways. The majority of these conditions are familial, however spontaneous mutation may also occur in utero.\n",
    "PM = 2000\n",
    "HN = 2000\n",
    "MR = 20110705\n",
    "DA = 19991103\n",
    "DC = 1\n",
    "DX = 20000101\n",
    "UI = D020739\"\"\""
   ]
  },
  {
   "cell_type": "code",
   "execution_count": 35,
   "metadata": {
    "collapsed": false
   },
   "outputs": [],
   "source": [
    "# note, only care about disease related attributes.\n",
    "# for example, ignoring RN CAS REGISTRY/EC NUMBER/UNII CODE\n",
    "attributes = {'MH': \"term\",\n",
    "              'MN': \"tree\",\n",
    "              'FX': \"see_also\",\n",
    "              'ST': \"semantic_type\", # see: https://semanticnetwork.nlm.nih.gov/download/SemGroups.txt\n",
    "              'MS': \"note\",\n",
    "              'MR': \"last_updated\",\n",
    "              'DC': \"descriptor_class\",\n",
    "              'UI': \"_id\",\n",
    "              'RECTYPE': \"record_type\",\n",
    "              'synonyms':\"synonyms\"} # added by me from PRINT ENTRY & ENTRY\n",
    "\n",
    "# TODO: parse PRINT ENTRY and ENTRY completely\n",
    "# \"'D-2-hydroxyglutaric aciduria|T047|EQV|OMIM (2013)|ORD (2010)|090615|abdeef'\""
   ]
  },
  {
   "cell_type": "code",
   "execution_count": 36,
   "metadata": {
    "collapsed": false
   },
   "outputs": [
    {
     "data": {
      "text/plain": [
       "{'T019',\n",
       " 'T020',\n",
       " 'T033',\n",
       " 'T037',\n",
       " 'T046',\n",
       " 'T047',\n",
       " 'T048',\n",
       " 'T049',\n",
       " 'T050',\n",
       " 'T184',\n",
       " 'T190',\n",
       " 'T191'}"
      ]
     },
     "execution_count": 36,
     "metadata": {},
     "output_type": "execute_result"
    }
   ],
   "source": [
    "# read in semantic types\n",
    "st_df = pd.read_csv(\"https://semanticnetwork.nlm.nih.gov/download/SemGroups.txt\", delimiter=\"|\",\n",
    "           names = [\"x0\",\"x1\",\"x2\",\"x3\"])\n",
    "semantic_types = dict(zip(st_df['x2'],st_df['x3']))\n",
    "disorder_df = st_df.query(\"x1 == 'Disorders'\")[['x2','x3']]\n",
    "disorders = set(disorder_df['x2'])\n",
    "disorders"
   ]
  },
  {
   "cell_type": "code",
   "execution_count": 37,
   "metadata": {
    "collapsed": false
   },
   "outputs": [],
   "source": [
    "# read in the mesh data\n",
    "with open(mesh_desc_path) as f:\n",
    "    mesh_desc = [x.strip() for x in f.readlines()]"
   ]
  },
  {
   "cell_type": "code",
   "execution_count": 38,
   "metadata": {
    "collapsed": false
   },
   "outputs": [
    {
     "data": {
      "text/plain": [
       "{'EC', 'ENTRY', 'FX', 'MH_TH', 'MN', 'PA', 'PI', 'PRINT ENTRY', 'RR', 'ST'}"
      ]
     },
     "execution_count": 38,
     "metadata": {},
     "output_type": "execute_result"
    }
   ],
   "source": [
    "# which attributes can have multiple values?\n",
    "gb = filterfalse(lambda x: x[0], groupby(mesh_desc, lambda x:x==\"*NEWRECORD\"))\n",
    "ds = []\n",
    "for gb_record in gb:\n",
    "    record = list(gb_record[1])\n",
    "    d = dict(Counter([line.split(\"=\",1)[0].strip() for line in record if \"=\" in line]))\n",
    "    ds.append(d)\n",
    "df = pd.DataFrame(ds).fillna(0)\n",
    "list_attribs = set(df.columns[df.max()>1])\n",
    "list_attribs"
   ]
  },
  {
   "cell_type": "code",
   "execution_count": 45,
   "metadata": {
    "collapsed": false
   },
   "outputs": [],
   "source": [
    "# split into records\n",
    "gb = filterfalse(lambda x: x[0], groupby(mesh_desc, lambda x:x==\"*NEWRECORD\"))"
   ]
  },
  {
   "cell_type": "code",
   "execution_count": 46,
   "metadata": {
    "collapsed": false
   },
   "outputs": [],
   "source": [
    "mesh_terms = []\n",
    "for gb_record in gb:\n",
    "    record = list(gb_record[1])\n",
    "    d = defaultdict(list)\n",
    "    for line in record:\n",
    "        if \"=\" not in line:\n",
    "            continue\n",
    "        key = line.split(\"=\",1)[0].strip()\n",
    "        value = line.split(\"=\",1)[1].strip()\n",
    "        if key in list_attribs and key in attributes:\n",
    "            d[attributes[key]].append(value)\n",
    "        elif key in attributes and key not in {\"PRINT ENTRY\", \"ENTRY\"}:\n",
    "            d[attributes[key]] = value\n",
    "        elif key == \"PRINT ENTRY\":\n",
    "            d['synonyms'].append(value.split(\"|\",1)[0])\n",
    "        elif key == \"ENTRY\":\n",
    "            d['synonyms'].append(value.split(\"|\",1)[0])\n",
    "            \n",
    "    if not (set(d['semantic_type']) & disorders):\n",
    "        continue\n",
    "    d['semantic_type_id'] = d['semantic_type']\n",
    "    d['semantic_type'] = [semantic_types[c] for c in d['semantic_type']]\n",
    "    d['_id'] = \"mesh:\" + d['_id']\n",
    "    mesh_terms.append(dict(d))"
   ]
  },
  {
   "cell_type": "code",
   "execution_count": 49,
   "metadata": {
    "collapsed": false
   },
   "outputs": [
    {
     "data": {
      "text/plain": [
       "{'_id': 'mesh:D020739',\n",
       " 'descriptor_class': '1',\n",
       " 'last_updated': '20110705',\n",
       " 'note': 'Brain disorders resulting from inborn metabolic errors, primarily from enzymatic defects which lead to substrate accumulation, product reduction, or increase in toxic metabolites through alternate pathways. The majority of these conditions are familial, however spontaneous mutation may also occur in utero.',\n",
       " 'record_type': 'D',\n",
       " 'see_also': ['Intellectual Disability'],\n",
       " 'semantic_type': ['Disease or Syndrome'],\n",
       " 'semantic_type_id': ['T047'],\n",
       " 'synonyms': ['Central Nervous System Inborn Metabolic Diseases',\n",
       "  'Familial Metabolic Brain Diseases',\n",
       "  'Inborn Errors of Metabolism, Brain',\n",
       "  'Metabolic Diseases, Inborn, Brain',\n",
       "  'Brain Diseases, Metabolic, Familial',\n",
       "  'Brain Diseases, Metabolic, Inherited',\n",
       "  'Brain Syndrome, Metabolic, Inborn',\n",
       "  'CNS Metabolic Disorders, Inborn',\n",
       "  'Central Nervous System Inborn Metabolic Disorders',\n",
       "  'Encephalopathies, Metabolic, Inborn',\n",
       "  'Familial Metabolic Disorders, Brain',\n",
       "  'Inborn Metabolic Brain Diseases',\n",
       "  'Inborn Metabolic Brain Disorders',\n",
       "  'Inborn Metabolic Disorders, Brain',\n",
       "  'Inherited Metabolic Brain Diseases',\n",
       "  'Inherited Metabolic Disorders, Brain',\n",
       "  'Metabolic Brain Diseases, Familial',\n",
       "  'Metabolic Brain Diseases, Inborn',\n",
       "  'Metabolic Brain Diseases, Inherited',\n",
       "  'Metabolic Brain Syndrome, Inborn',\n",
       "  'Metabolic Diseases, Inborn, Central Nervous System',\n",
       "  'Metabolic Disorders, Brain, Inherited',\n",
       "  'Metabolic Disorders, CNS, Inborn',\n",
       "  'Metabolic Disorders, Familial, Brain'],\n",
       " 'term': 'Brain Diseases, Metabolic, Inborn',\n",
       " 'tree': ['C10.228.140.163.100',\n",
       "  'C16.320.565.189',\n",
       "  'C18.452.132.100',\n",
       "  'C18.452.648.189']}"
      ]
     },
     "execution_count": 49,
     "metadata": {},
     "output_type": "execute_result"
    }
   ],
   "source": [
    "[x for x in mesh_terms if x['_id'] == \"mesh:D020739\"][0]"
   ]
  },
  {
   "cell_type": "markdown",
   "metadata": {},
   "source": [
    "## Parse a Supplemental Record\n",
    "### all attributes listed here: https://www.nlm.nih.gov/mesh/ctype.html\n",
    "\n",
    "Example record:"
   ]
  },
  {
   "cell_type": "code",
   "execution_count": 50,
   "metadata": {
    "collapsed": false
   },
   "outputs": [],
   "source": [
    "record = \"\"\"*NEWRECORD\n",
    "RECTYPE = C\n",
    "NM = 2-Hydroxyglutaricaciduria\n",
    "RN = 0\n",
    "SY = 2-Hga|T047|EQV|GHR (2014)|130418|abdef\n",
    "SY = 2-Hydroxyglutaric Aciduria|T047|EQV|GHR (2014)|130418|abdef\n",
    "SY = Combined D-2- and L-2-hydroxyglutaric aciduria|T047|EQV|ORD (2010)|090615|abdef\n",
    "SY = D-2-hydroxyglutaric aciduria|T047|EQV|OMIM (2013)|ORD (2010)|090615|abdeef\n",
    "SY = L-2-Hydroxyglutaric Acidemia|T047|EQV|OMIM (2013)|111115|abdef\n",
    "SY = L-2-hydroxyglutaric aciduria|T047|EQV|OMIM (2013)|ORD (2010)|090615|abdeef\n",
    "HM = Brain Diseases, Metabolic, Inborn\n",
    "NM_TH = ORD (2010)\n",
    "ST = T047\n",
    "FR = 38\n",
    "NO = Hereditary neurometabolic disorders characterized by DEVELOPMENTAL DELAY; EPILEPSY; HYPOTONIA, and dysmorphic features. Severe cases of D2HGA are homogeneous and are characterized by early infantile-onset epileptic encephalopathy and, CARDIOMYOPATHY. The mild phenotype has a more variable clinical presentation. In L2HGA, patients may also present with ATAXIA; MEGALENCEPHALY, and speech difficulties and the condition deteriorates over time. Mutations in the D2HGDH gene have been identified for D2HGA (OMIM: 600721) and the L2HGDH gene for L2HGA (OMIM: 236792).\n",
    "DA = 20100625\n",
    "MR = 20150808\n",
    "UI = C535306\n",
    "\"\"\""
   ]
  },
  {
   "cell_type": "code",
   "execution_count": 51,
   "metadata": {
    "collapsed": true
   },
   "outputs": [],
   "source": [
    "attributes = {'HM': \"mapped_to\",\n",
    "              'MR': \"last_updated\",\n",
    "              'NM': \"tree\",\n",
    "              'NO': \"note\",\n",
    "              'RECTYPE': \"record_type\",\n",
    "              'ST': \"semantic_type\",\n",
    "              'SY': \"synonym\",\n",
    "              'UI': \"_id\"}"
   ]
  },
  {
   "cell_type": "code",
   "execution_count": 52,
   "metadata": {
    "collapsed": false
   },
   "outputs": [],
   "source": [
    "# read in the mesh data\n",
    "with open(mesh_supp_path) as f:\n",
    "    mesh_supp = [x.strip() for x in f.readlines()]"
   ]
  },
  {
   "cell_type": "code",
   "execution_count": 53,
   "metadata": {
    "collapsed": false
   },
   "outputs": [
    {
     "data": {
      "text/plain": [
       "{'HM', 'II', 'NM_TH', 'PA', 'PI', 'RR', 'SO', 'ST', 'SY'}"
      ]
     },
     "execution_count": 53,
     "metadata": {},
     "output_type": "execute_result"
    }
   ],
   "source": [
    "# which attributes can have multiple values?\n",
    "gb = filterfalse(lambda x: x[0], groupby(mesh_supp, lambda x:x==\"*NEWRECORD\"))\n",
    "ds = []\n",
    "for gb_record in gb:\n",
    "    record = list(gb_record[1])\n",
    "    d = dict(Counter([line.split(\"=\",1)[0].strip() for line in record if \"=\" in line]))\n",
    "    ds.append(d)\n",
    "df = pd.DataFrame(ds).fillna(0)\n",
    "list_attribs = set(df.columns[df.max()>1])\n",
    "list_attribs"
   ]
  },
  {
   "cell_type": "code",
   "execution_count": 54,
   "metadata": {
    "collapsed": false
   },
   "outputs": [],
   "source": [
    "# split into records\n",
    "gb = filterfalse(lambda x: x[0], groupby(mesh_supp, lambda x:x==\"*NEWRECORD\"))"
   ]
  },
  {
   "cell_type": "code",
   "execution_count": 55,
   "metadata": {
    "collapsed": false
   },
   "outputs": [],
   "source": [
    "mesh_supp_terms = []\n",
    "for gb_record in gb:\n",
    "    record = list(gb_record[1])\n",
    "    d = defaultdict(list)\n",
    "    for line in record:\n",
    "        if \"=\" not in line:\n",
    "            continue\n",
    "        key = line.split(\"=\",1)[0].strip()\n",
    "        value = line.split(\"=\",1)[1].strip()\n",
    "        if key in list_attribs and key in attributes:\n",
    "            d[attributes[key]].append(value)\n",
    "        elif key in attributes and key not in {\"SY\"}:\n",
    "            d[attributes[key]] = value\n",
    "        elif key == \"SY\":\n",
    "            d['synonyms'].append(value.split(\"|\",1)[0])\n",
    "            \n",
    "    if not (set(d['semantic_type']) & disorders):\n",
    "        continue\n",
    "    d['semantic_type_id'] = d['semantic_type']\n",
    "    d['semantic_type'] = [semantic_types[c] for c in d['semantic_type']]\n",
    "    d['_id'] = \"mesh:\" + d['_id']\n",
    "    mesh_supp_terms.append(dict(d))"
   ]
  },
  {
   "cell_type": "code",
   "execution_count": 57,
   "metadata": {
    "collapsed": false
   },
   "outputs": [
    {
     "data": {
      "text/plain": [
       "{'_id': 'mesh:C535306',\n",
       " 'last_updated': '20150808',\n",
       " 'mapped_to': ['Brain Diseases, Metabolic, Inborn'],\n",
       " 'note': 'Hereditary neurometabolic disorders characterized by DEVELOPMENTAL DELAY; EPILEPSY; HYPOTONIA, and dysmorphic features. Severe cases of D2HGA are homogeneous and are characterized by early infantile-onset epileptic encephalopathy and, CARDIOMYOPATHY. The mild phenotype has a more variable clinical presentation. In L2HGA, patients may also present with ATAXIA; MEGALENCEPHALY, and speech difficulties and the condition deteriorates over time. Mutations in the D2HGDH gene have been identified for D2HGA (OMIM: 600721) and the L2HGDH gene for L2HGA (OMIM: 236792).',\n",
       " 'record_type': 'C',\n",
       " 'semantic_type': ['Disease or Syndrome'],\n",
       " 'semantic_type_id': ['T047'],\n",
       " 'synonym': ['2-Hga|T047|EQV|GHR (2014)|130418|abdef',\n",
       "  '2-Hydroxyglutaric Aciduria|T047|EQV|GHR (2014)|130418|abdef',\n",
       "  'Combined D-2- and L-2-hydroxyglutaric aciduria|T047|EQV|ORD (2010)|090615|abdef',\n",
       "  'D-2-hydroxyglutaric aciduria|T047|EQV|OMIM (2013)|ORD (2010)|090615|abdeef',\n",
       "  'L-2-Hydroxyglutaric Acidemia|T047|EQV|OMIM (2013)|111115|abdef',\n",
       "  'L-2-hydroxyglutaric aciduria|T047|EQV|OMIM (2013)|ORD (2010)|090615|abdeef'],\n",
       " 'tree': '2-Hydroxyglutaricaciduria'}"
      ]
     },
     "execution_count": 57,
     "metadata": {},
     "output_type": "execute_result"
    }
   ],
   "source": [
    "[x for x in mesh_supp_terms if x['_id'] == \"mesh:C535306\"][0]"
   ]
  },
  {
   "cell_type": "code",
   "execution_count": 58,
   "metadata": {
    "collapsed": false
   },
   "outputs": [
    {
     "name": "stdout",
     "output_type": "stream",
     "text": [
      "4871\n",
      "6539\n",
      "11410\n"
     ]
    }
   ],
   "source": [
    "print(len(mesh_terms))\n",
    "print(len(mesh_supp_terms))\n",
    "print(len(mesh_terms)+len(mesh_supp_terms))"
   ]
  },
  {
   "cell_type": "code",
   "execution_count": 59,
   "metadata": {
    "collapsed": false
   },
   "outputs": [
    {
     "name": "stdout",
     "output_type": "stream",
     "text": [
      "2997\n",
      "6248\n",
      "9245\n"
     ]
    }
   ],
   "source": [
    "a=len([x for x in mesh_terms if 'Disease or Syndrome' in x['semantic_type']])\n",
    "b=len([x for x in mesh_supp_terms if 'Disease or Syndrome' in x['semantic_type']])\n",
    "print(a)\n",
    "print(b)\n",
    "print(a+b)"
   ]
  },
  {
   "cell_type": "code",
   "execution_count": 60,
   "metadata": {
    "collapsed": false
   },
   "outputs": [
    {
     "data": {
      "text/plain": [
       "<pymongo.results.InsertManyResult at 0x7f14624dc948>"
      ]
     },
     "execution_count": 60,
     "metadata": {},
     "output_type": "execute_result"
    }
   ],
   "source": [
    "from pymongo import MongoClient\n",
    "client = MongoClient()\n",
    "db = client.mydisease.mesh\n",
    "db.drop()\n",
    "db.insert_many(mesh_terms)\n",
    "db.insert_many(mesh_supp_terms)"
   ]
  },
  {
   "cell_type": "code",
   "execution_count": 61,
   "metadata": {
    "collapsed": false
   },
   "outputs": [
    {
     "data": {
      "text/plain": [
       "11410"
      ]
     },
     "execution_count": 61,
     "metadata": {},
     "output_type": "execute_result"
    }
   ],
   "source": [
    "db.count()"
   ]
  },
  {
   "cell_type": "code",
   "execution_count": 62,
   "metadata": {
    "collapsed": false
   },
   "outputs": [
    {
     "data": {
      "text/plain": [
       "{'_id': 'mesh:C535306',\n",
       " 'last_updated': '20150808',\n",
       " 'mapped_to': ['Brain Diseases, Metabolic, Inborn'],\n",
       " 'note': 'Hereditary neurometabolic disorders characterized by DEVELOPMENTAL DELAY; EPILEPSY; HYPOTONIA, and dysmorphic features. Severe cases of D2HGA are homogeneous and are characterized by early infantile-onset epileptic encephalopathy and, CARDIOMYOPATHY. The mild phenotype has a more variable clinical presentation. In L2HGA, patients may also present with ATAXIA; MEGALENCEPHALY, and speech difficulties and the condition deteriorates over time. Mutations in the D2HGDH gene have been identified for D2HGA (OMIM: 600721) and the L2HGDH gene for L2HGA (OMIM: 236792).',\n",
       " 'record_type': 'C',\n",
       " 'semantic_type': ['Disease or Syndrome'],\n",
       " 'semantic_type_id': ['T047'],\n",
       " 'synonym': ['2-Hga|T047|EQV|GHR (2014)|130418|abdef',\n",
       "  '2-Hydroxyglutaric Aciduria|T047|EQV|GHR (2014)|130418|abdef',\n",
       "  'Combined D-2- and L-2-hydroxyglutaric aciduria|T047|EQV|ORD (2010)|090615|abdef',\n",
       "  'D-2-hydroxyglutaric aciduria|T047|EQV|OMIM (2013)|ORD (2010)|090615|abdeef',\n",
       "  'L-2-Hydroxyglutaric Acidemia|T047|EQV|OMIM (2013)|111115|abdef',\n",
       "  'L-2-hydroxyglutaric aciduria|T047|EQV|OMIM (2013)|ORD (2010)|090615|abdeef'],\n",
       " 'tree': '2-Hydroxyglutaricaciduria'}"
      ]
     },
     "execution_count": 62,
     "metadata": {},
     "output_type": "execute_result"
    }
   ],
   "source": [
    "db.find_one(\"mesh:C535306\")"
   ]
  },
  {
   "cell_type": "code",
   "execution_count": null,
   "metadata": {
    "collapsed": true
   },
   "outputs": [],
   "source": [
    ""
   ]
  }
 ],
 "metadata": {
  "kernelspec": {
   "display_name": "Python 3",
   "language": "python",
   "name": "python3"
  },
  "language_info": {
   "codemirror_mode": {
    "name": "ipython",
    "version": 3.0
   },
   "file_extension": ".py",
   "mimetype": "text/x-python",
   "name": "python",
   "nbconvert_exporter": "python",
   "pygments_lexer": "ipython3",
   "version": "3.5.2"
  }
 },
 "nbformat": 4,
 "nbformat_minor": 0
}